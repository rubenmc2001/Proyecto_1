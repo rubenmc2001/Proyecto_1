{
 "cells": [
  {
   "cell_type": "code",
   "execution_count": 1,
   "metadata": {},
   "outputs": [],
   "source": [
    "import sklearn as sk\n",
    "import pandas as pd"
   ]
  },
  {
   "cell_type": "markdown",
   "metadata": {},
   "source": [
    "## Preprocesamiento"
   ]
  },
  {
   "cell_type": "code",
   "execution_count": 2,
   "metadata": {},
   "outputs": [],
   "source": [
    "equipos = pd.read_csv('../Data/equipos_data.csv')\n",
    "equipos = equipos[['equipo','posicion','valor_mercado','aforo']]\n",
    "historico = pd.read_csv('../Data/historico_data.csv')\n",
    "historico = historico[['equipo1','equipo2','mes','fin_de_semana','publico']]"
   ]
  },
  {
   "cell_type": "markdown",
   "metadata": {},
   "source": [
    "##### Ver si se llenan los estadios en algunos partidos "
   ]
  },
  {
   "cell_type": "code",
   "execution_count": 3,
   "metadata": {},
   "outputs": [
    {
     "data": {
      "text/html": [
       "<div>\n",
       "<style scoped>\n",
       "    .dataframe tbody tr th:only-of-type {\n",
       "        vertical-align: middle;\n",
       "    }\n",
       "\n",
       "    .dataframe tbody tr th {\n",
       "        vertical-align: top;\n",
       "    }\n",
       "\n",
       "    .dataframe thead th {\n",
       "        text-align: right;\n",
       "    }\n",
       "</style>\n",
       "<table border=\"1\" class=\"dataframe\">\n",
       "  <thead>\n",
       "    <tr style=\"text-align: right;\">\n",
       "      <th></th>\n",
       "      <th>equipo1</th>\n",
       "      <th>equipo2</th>\n",
       "      <th>mes</th>\n",
       "      <th>fin_de_semana</th>\n",
       "      <th>publico</th>\n",
       "      <th>equipo</th>\n",
       "      <th>posicion</th>\n",
       "      <th>valor_mercado</th>\n",
       "      <th>aforo</th>\n",
       "    </tr>\n",
       "  </thead>\n",
       "  <tbody>\n",
       "    <tr>\n",
       "      <th>5</th>\n",
       "      <td>Real Madrid CF</td>\n",
       "      <td>FC Barcelona</td>\n",
       "      <td>3</td>\n",
       "      <td>1</td>\n",
       "      <td>81044</td>\n",
       "      <td>Real Madrid CF</td>\n",
       "      <td>1</td>\n",
       "      <td>770.75</td>\n",
       "      <td>81044</td>\n",
       "    </tr>\n",
       "    <tr>\n",
       "      <th>8</th>\n",
       "      <td>Real Madrid CF</td>\n",
       "      <td>FC Barcelona</td>\n",
       "      <td>2</td>\n",
       "      <td>1</td>\n",
       "      <td>81044</td>\n",
       "      <td>Real Madrid CF</td>\n",
       "      <td>1</td>\n",
       "      <td>770.75</td>\n",
       "      <td>81044</td>\n",
       "    </tr>\n",
       "    <tr>\n",
       "      <th>21</th>\n",
       "      <td>Real Madrid CF</td>\n",
       "      <td>Sevilla FC</td>\n",
       "      <td>4</td>\n",
       "      <td>1</td>\n",
       "      <td>81044</td>\n",
       "      <td>Real Madrid CF</td>\n",
       "      <td>1</td>\n",
       "      <td>770.75</td>\n",
       "      <td>81044</td>\n",
       "    </tr>\n",
       "    <tr>\n",
       "      <th>49</th>\n",
       "      <td>Real Madrid CF</td>\n",
       "      <td>Real Sociedad</td>\n",
       "      <td>11</td>\n",
       "      <td>1</td>\n",
       "      <td>81044</td>\n",
       "      <td>Real Madrid CF</td>\n",
       "      <td>1</td>\n",
       "      <td>770.75</td>\n",
       "      <td>81044</td>\n",
       "    </tr>\n",
       "    <tr>\n",
       "      <th>54</th>\n",
       "      <td>Real Madrid CF</td>\n",
       "      <td>Villarreal CF</td>\n",
       "      <td>8</td>\n",
       "      <td>1</td>\n",
       "      <td>81044</td>\n",
       "      <td>Real Madrid CF</td>\n",
       "      <td>1</td>\n",
       "      <td>770.75</td>\n",
       "      <td>81044</td>\n",
       "    </tr>\n",
       "    <tr>\n",
       "      <th>...</th>\n",
       "      <td>...</td>\n",
       "      <td>...</td>\n",
       "      <td>...</td>\n",
       "      <td>...</td>\n",
       "      <td>...</td>\n",
       "      <td>...</td>\n",
       "      <td>...</td>\n",
       "      <td>...</td>\n",
       "      <td>...</td>\n",
       "    </tr>\n",
       "    <tr>\n",
       "      <th>2693</th>\n",
       "      <td>Getafe CF</td>\n",
       "      <td>Sevilla FC</td>\n",
       "      <td>2</td>\n",
       "      <td>1</td>\n",
       "      <td>16800</td>\n",
       "      <td>Getafe CF</td>\n",
       "      <td>15</td>\n",
       "      <td>208.68</td>\n",
       "      <td>16800</td>\n",
       "    </tr>\n",
       "    <tr>\n",
       "      <th>2751</th>\n",
       "      <td>Getafe CF</td>\n",
       "      <td>CA Osasuna</td>\n",
       "      <td>3</td>\n",
       "      <td>1</td>\n",
       "      <td>16800</td>\n",
       "      <td>Getafe CF</td>\n",
       "      <td>15</td>\n",
       "      <td>208.68</td>\n",
       "      <td>16800</td>\n",
       "    </tr>\n",
       "    <tr>\n",
       "      <th>2887</th>\n",
       "      <td>RCD Mallorca</td>\n",
       "      <td>Sevilla FC</td>\n",
       "      <td>4</td>\n",
       "      <td>1</td>\n",
       "      <td>20500</td>\n",
       "      <td>RCD Mallorca</td>\n",
       "      <td>16</td>\n",
       "      <td>74.15</td>\n",
       "      <td>20500</td>\n",
       "    </tr>\n",
       "    <tr>\n",
       "      <th>3043</th>\n",
       "      <td>Cádiz CF</td>\n",
       "      <td>Real Madrid CF</td>\n",
       "      <td>2</td>\n",
       "      <td>1</td>\n",
       "      <td>21094</td>\n",
       "      <td>Cádiz CF</td>\n",
       "      <td>17</td>\n",
       "      <td>67.80</td>\n",
       "      <td>21094</td>\n",
       "    </tr>\n",
       "    <tr>\n",
       "      <th>3394</th>\n",
       "      <td>UD Almería</td>\n",
       "      <td>Cádiz CF</td>\n",
       "      <td>4</td>\n",
       "      <td>1</td>\n",
       "      <td>15274</td>\n",
       "      <td>UD Almería</td>\n",
       "      <td>18</td>\n",
       "      <td>63.75</td>\n",
       "      <td>15274</td>\n",
       "    </tr>\n",
       "  </tbody>\n",
       "</table>\n",
       "<p>157 rows × 9 columns</p>\n",
       "</div>"
      ],
      "text/plain": [
       "             equipo1         equipo2  mes  fin_de_semana  publico  \\\n",
       "5     Real Madrid CF    FC Barcelona    3              1    81044   \n",
       "8     Real Madrid CF    FC Barcelona    2              1    81044   \n",
       "21    Real Madrid CF      Sevilla FC    4              1    81044   \n",
       "49    Real Madrid CF   Real Sociedad   11              1    81044   \n",
       "54    Real Madrid CF   Villarreal CF    8              1    81044   \n",
       "...              ...             ...  ...            ...      ...   \n",
       "2693       Getafe CF      Sevilla FC    2              1    16800   \n",
       "2751       Getafe CF      CA Osasuna    3              1    16800   \n",
       "2887    RCD Mallorca      Sevilla FC    4              1    20500   \n",
       "3043        Cádiz CF  Real Madrid CF    2              1    21094   \n",
       "3394      UD Almería        Cádiz CF    4              1    15274   \n",
       "\n",
       "              equipo  posicion  valor_mercado  aforo  \n",
       "5     Real Madrid CF         1         770.75  81044  \n",
       "8     Real Madrid CF         1         770.75  81044  \n",
       "21    Real Madrid CF         1         770.75  81044  \n",
       "49    Real Madrid CF         1         770.75  81044  \n",
       "54    Real Madrid CF         1         770.75  81044  \n",
       "...              ...       ...            ...    ...  \n",
       "2693       Getafe CF        15         208.68  16800  \n",
       "2751       Getafe CF        15         208.68  16800  \n",
       "2887    RCD Mallorca        16          74.15  20500  \n",
       "3043        Cádiz CF        17          67.80  21094  \n",
       "3394      UD Almería        18          63.75  15274  \n",
       "\n",
       "[157 rows x 9 columns]"
      ]
     },
     "execution_count": 3,
     "metadata": {},
     "output_type": "execute_result"
    }
   ],
   "source": [
    "se_llena = pd.merge(historico,equipos, left_on='equipo1', right_on='equipo')\n",
    "se_llena[se_llena['publico'] == se_llena['aforo']]"
   ]
  },
  {
   "cell_type": "markdown",
   "metadata": {},
   "source": [
    "Se llena el estadio en 157 partidos"
   ]
  },
  {
   "cell_type": "markdown",
   "metadata": {},
   "source": [
    "### Obtener variables dummies para entrenar los modelos"
   ]
  },
  {
   "cell_type": "code",
   "execution_count": 4,
   "metadata": {},
   "outputs": [],
   "source": [
    "historico = pd.get_dummies(historico, prefix=['equipo1','equipo2'])"
   ]
  },
  {
   "cell_type": "markdown",
   "metadata": {},
   "source": [
    "## Modelos Predictivos"
   ]
  },
  {
   "cell_type": "code",
   "execution_count": 5,
   "metadata": {},
   "outputs": [],
   "source": [
    "X = historico.drop('publico',axis=1)\n",
    "y = historico['publico']"
   ]
  },
  {
   "cell_type": "markdown",
   "metadata": {},
   "source": [
    "### Regresion Lineal"
   ]
  },
  {
   "cell_type": "code",
   "execution_count": 6,
   "metadata": {},
   "outputs": [
    {
     "name": "stderr",
     "output_type": "stream",
     "text": [
      "c:\\Users\\migue\\AppData\\Local\\Continuum\\anaconda3\\lib\\site-packages\\sklearn\\linear_model\\_base.py:145: FutureWarning: 'normalize' was deprecated in version 1.0 and will be removed in 1.2.\n",
      "If you wish to scale the data, use Pipeline with a StandardScaler in a preprocessing stage. To reproduce the previous behavior:\n",
      "\n",
      "from sklearn.pipeline import make_pipeline\n",
      "\n",
      "model = make_pipeline(StandardScaler(with_mean=False), LinearRegression())\n",
      "\n",
      "If you wish to pass a sample_weight parameter, you need to pass it as a fit parameter to each step of the pipeline as follows:\n",
      "\n",
      "kwargs = {s[0] + '__sample_weight': sample_weight for s in model.steps}\n",
      "model.fit(X, y, **kwargs)\n",
      "\n",
      "\n",
      "  FutureWarning,\n"
     ]
    },
    {
     "data": {
      "text/plain": [
       "4911.61264786135"
      ]
     },
     "execution_count": 6,
     "metadata": {},
     "output_type": "execute_result"
    }
   ],
   "source": [
    "from sklearn.linear_model import LinearRegression\n",
    "# from sklearn.model_selection import cross_val_score\n",
    "from sklearn.metrics import mean_squared_error\n",
    "clf = LinearRegression(normalize=True)\n",
    "clf.fit(X,y)\n",
    "scores = clf.predict(X)\n",
    "mean_squared_error(y,scores)**(1/2)"
   ]
  },
  {
   "cell_type": "markdown",
   "metadata": {},
   "source": [
    "### Random Forest"
   ]
  },
  {
   "cell_type": "code",
   "execution_count": 7,
   "metadata": {},
   "outputs": [
    {
     "data": {
      "text/plain": [
       "2488.684547167605"
      ]
     },
     "execution_count": 7,
     "metadata": {},
     "output_type": "execute_result"
    }
   ],
   "source": [
    "from sklearn.ensemble import RandomForestRegressor\n",
    "forest = RandomForestRegressor(max_depth = 100,random_state=0)\n",
    "forest.fit(X, y)\n",
    "scores = forest.predict(X)\n",
    "mean_squared_error(y,scores)**(1/2)"
   ]
  },
  {
   "cell_type": "code",
   "execution_count": 26,
   "metadata": {},
   "outputs": [
    {
     "data": {
      "text/plain": [
       "8456.288391589826"
      ]
     },
     "execution_count": 26,
     "metadata": {},
     "output_type": "execute_result"
    }
   ],
   "source": [
    "from sklearn.model_selection import cross_val_score\n",
    "from sklearn.neighbors import KNeighborsRegressor\n",
    "\n",
    "knr = KNeighborsRegressor(n_neighbors=5)\n",
    "knr.fit(X, y)\n",
    "mean_squared_error(y, knr.predict(X))**0.5"
   ]
  }
 ],
 "metadata": {
  "kernelspec": {
   "display_name": "Python 3.7.4 ('base')",
   "language": "python",
   "name": "python3"
  },
  "language_info": {
   "codemirror_mode": {
    "name": "ipython",
    "version": 3
   },
   "file_extension": ".py",
   "mimetype": "text/x-python",
   "name": "python",
   "nbconvert_exporter": "python",
   "pygments_lexer": "ipython3",
   "version": "3.7.4"
  },
  "vscode": {
   "interpreter": {
    "hash": "17fc8340c9ba1e94038bd011b525f4db70ac036de745d735c7fcd6ae35d62309"
   }
  }
 },
 "nbformat": 4,
 "nbformat_minor": 4
}
