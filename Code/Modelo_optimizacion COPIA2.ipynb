{
 "cells": [
  {
   "cell_type": "markdown",
   "metadata": {},
   "source": [
    "# Proyecto 1. Calendario laLiga"
   ]
  },
  {
   "cell_type": "markdown",
   "metadata": {},
   "source": [
    "#### Partidos"
   ]
  },
  {
   "cell_type": "code",
   "execution_count": 1,
   "metadata": {},
   "outputs": [],
   "source": [
    "import pandas as pd\n",
    "from itertools import permutations\n",
    "\n",
    "df = pd.read_csv('../Data/equipos_data.csv', index_col = 0)\n",
    "equipos = list(df['equipo'].unique())\n",
    "partidos = list(permutations(df['equipo'].unique(), 2))"
   ]
  },
  {
   "cell_type": "markdown",
   "metadata": {},
   "source": [
    "#### Días"
   ]
  },
  {
   "cell_type": "code",
   "execution_count": 2,
   "metadata": {},
   "outputs": [],
   "source": [
    "import pickle\n",
    "filename = '../Data/list_calendar.pkl'\n",
    "lista_dias = open(filename, 'rb')\n",
    "with open(filename, 'rb') as f:\n",
    "    lista_dias=pickle.load(f)\n",
    "# lista_dias"
   ]
  },
  {
   "cell_type": "code",
   "execution_count": 3,
   "metadata": {},
   "outputs": [],
   "source": [
    "import pickle\n",
    "filename = '../Data/dic_dias_jugables_r.pkl'\n",
    "dic_dias_reales = open(filename, 'rb')\n",
    "with open(filename, 'rb') as f:\n",
    "    dic_dias_reales=pickle.load(f)"
   ]
  },
  {
   "cell_type": "markdown",
   "metadata": {},
   "source": [
    "#### Finde"
   ]
  },
  {
   "cell_type": "code",
   "execution_count": 4,
   "metadata": {},
   "outputs": [],
   "source": [
    "import pickle\n",
    "filename = '../Data/list_day.pkl'\n",
    "es_finde = open(filename, 'rb')\n",
    "with open(filename, 'rb') as f:\n",
    "    es_finde=pickle.load(f)\n",
    "# Es finde? 1 si, 0 no"
   ]
  },
  {
   "cell_type": "markdown",
   "metadata": {},
   "source": [
    "### Modelo"
   ]
  },
  {
   "cell_type": "code",
   "execution_count": 5,
   "metadata": {},
   "outputs": [],
   "source": [
    "filename = '../Data/predicciones.pickle'\n",
    "predicciones = open(filename, 'rb')\n",
    "with open(filename, 'rb') as f:\n",
    "    predicciones=pickle.load(f)"
   ]
  },
  {
   "cell_type": "markdown",
   "metadata": {},
   "source": [
    "## Modelado"
   ]
  },
  {
   "cell_type": "markdown",
   "metadata": {},
   "source": [
    "### Variables"
   ]
  },
  {
   "cell_type": "markdown",
   "metadata": {},
   "source": [
    "https://developers.google.com/optimization/assignment/assignment_example"
   ]
  },
  {
   "cell_type": "code",
   "execution_count": 6,
   "metadata": {},
   "outputs": [],
   "source": [
    "from ortools.linear_solver import pywraplp\n",
    "solver = pywraplp.Solver.CreateSolver('CP-SAT') #CBC, SCIP, SAT\n",
    "\n",
    "x = {}\n",
    "for i in partidos:\n",
    "    for j in lista_dias:\n",
    "        x[i, j] = solver.BoolVar(f'Partido {i} jugado el dia {j}')"
   ]
  },
  {
   "cell_type": "markdown",
   "metadata": {},
   "source": [
    "### Variables ficticias"
   ]
  },
  {
   "cell_type": "code",
   "execution_count": 7,
   "metadata": {},
   "outputs": [],
   "source": [
    "dl = {}\n",
    "for i in partidos: \n",
    "    dl[i] = solver.IntVar(0, len(lista_dias)-1, f'Día lectivo en el que se juega {i}')\n",
    "    solver.Add(dl[i] == solver.Sum([dia * x[i,j] for dia, j in enumerate(lista_dias)]))"
   ]
  },
  {
   "cell_type": "code",
   "execution_count": 8,
   "metadata": {},
   "outputs": [],
   "source": [
    "dr = {}\n",
    "for i in partidos: \n",
    "    dr[i] = solver.IntVar(0, 295, f'Día real en el que se juega {i}')\n",
    "    solver.Add(dr[i] == solver.Sum([dia * x[i,j] for dia, j in dic_dias_reales.items()]))"
   ]
  },
  {
   "cell_type": "markdown",
   "metadata": {},
   "source": [
    "### Restricciones"
   ]
  },
  {
   "cell_type": "markdown",
   "metadata": {},
   "source": [
    "<div class=\"alert alert-info\">\n",
    "  <strong>Máximo 4 partidos por día</strong>\n",
    "</div>"
   ]
  },
  {
   "cell_type": "code",
   "execution_count": 9,
   "metadata": {},
   "outputs": [],
   "source": [
    "for j in lista_dias:\n",
    "    solver.Add(solver.Sum([x[i, j] for i in partidos])<=6)"
   ]
  },
  {
   "cell_type": "markdown",
   "metadata": {},
   "source": [
    "<div class=\"alert alert-info\">\n",
    "  <strong>Todos los partidos tienen que jugarse una vez</strong>\n",
    "</div>"
   ]
  },
  {
   "cell_type": "code",
   "execution_count": 10,
   "metadata": {},
   "outputs": [],
   "source": [
    "for i in partidos:\n",
    "    solver.Add(solver.Sum([x[i, j] for j in lista_dias])==1)"
   ]
  },
  {
   "cell_type": "markdown",
   "metadata": {},
   "source": [
    "<div class=\"alert alert-info\">\n",
    "  <strong>Las cadenas de TV prefieren que los partidos sean el finde</strong>\n",
    "</div>"
   ]
  },
  {
   "cell_type": "code",
   "execution_count": 11,
   "metadata": {},
   "outputs": [
    {
     "data": {
      "text/plain": [
       "<ortools.linear_solver.pywraplp.Constraint; proxy of <Swig Object of type 'operations_research::MPConstraint *' at 0x000001C7BC8186F0> >"
      ]
     },
     "execution_count": 11,
     "metadata": {},
     "output_type": "execute_result"
    }
   ],
   "source": [
    "solver.Add(solver.Sum([x[i, lista_dias[j]] for j in range(len(lista_dias)) if es_finde[j] for i in partidos])>=0.501*380)"
   ]
  },
  {
   "cell_type": "markdown",
   "metadata": {},
   "source": [
    "<div class=\"alert alert-info\">\n",
    "  <strong>Separar los partidos de ida y vuelta (mínimo 60 días jugables)</strong>\n",
    "</div>"
   ]
  },
  {
   "cell_type": "code",
   "execution_count": 12,
   "metadata": {},
   "outputs": [],
   "source": [
    "for i in partidos:\n",
    "    for indice, j in enumerate(lista_dias[:len(lista_dias)-50+1]):\n",
    "        solver.Add(solver.Sum([x[i, j1]+x[(i[1],i[0]), j1] for j1 in lista_dias[indice:indice+50+1]])<=1)"
   ]
  },
  {
   "cell_type": "markdown",
   "metadata": {},
   "source": [
    "<div class=\"alert alert-info\">\n",
    "  <strong>Es deseable que no se jueguen demasiados partidos seguidos en casa o como visitante</strong>\n",
    "</div>"
   ]
  },
  {
   "cell_type": "code",
   "execution_count": 13,
   "metadata": {},
   "outputs": [],
   "source": [
    "for equipo1 in equipos:\n",
    "    for dia in range(1, len(lista_dias)+1):\n",
    "        restriccion = solver.Constraint(-2, 2, '')\n",
    "        for j in lista_dias[:dia]:\n",
    "            for equipo2 in equipos:\n",
    "                if equipo1 != equipo2:\n",
    "                    restriccion.SetCoefficient(x[(equipo1, equipo2), j], 1)\n",
    "                    restriccion.SetCoefficient(x[(equipo2, equipo1), j], -1)"
   ]
  },
  {
   "cell_type": "markdown",
   "metadata": {},
   "source": [
    "<div class=\"alert alert-info\">\n",
    "  <strong>Máximo de 7 días sin jugar un mismo equipo</strong>\n",
    "</div>"
   ]
  },
  {
   "cell_type": "code",
   "execution_count": 14,
   "metadata": {},
   "outputs": [],
   "source": [
    "for equipo in equipos:\n",
    "    for j,fecha in enumerate(lista_dias):\n",
    "        if j < 139:\n",
    "            restriccion = solver.Constraint(1,solver.Infinity(), f'Máximo numero de días sin jugar {equipo}, fecha {j}')\n",
    "            for aux in range(1,8):\n",
    "                k=j+aux-1\n",
    "\n",
    "                for i in partidos:\n",
    "                    if equipo in i:\n",
    "                        restriccion.SetCoefficient(x[i, lista_dias[k]], 1)"
   ]
  },
  {
   "cell_type": "markdown",
   "metadata": {},
   "source": [
    "<div class=\"alert alert-info\">\n",
    "  <strong>No muchos partidos seguidos del mismo equipo (mínimo 3 días entre partido y partido)</strong>\n",
    "</div>"
   ]
  },
  {
   "cell_type": "code",
   "execution_count": 15,
   "metadata": {},
   "outputs": [],
   "source": [
    "for e in equipos:\n",
    "    for i in partidos:\n",
    "        for i_aux in partidos:\n",
    "            if e in i and e in i_aux and i!=i_aux and not (i[0] == i_aux[1] and i[1] == i_aux[0]):\n",
    "                Y_pos = solver.BoolVar(f'Partido {i} vs partido {i_aux} Y positiva')\n",
    "                Y_neg = solver.BoolVar(f'Partido {i} vs partido {i_aux} Y negativa')\n",
    "        \n",
    "                solver.Add(solver.Sum([Y_pos,Y_neg]) == 1)\n",
    "                solver.Add(-1000000*Y_pos + dr[i]-dr[i_aux]>= -1000000 +3)\n",
    "                solver.Add(1000000*Y_neg + dr[i]-dr[i_aux]<= 1000000 -3)"
   ]
  },
  {
   "cell_type": "markdown",
   "metadata": {},
   "source": [
    "### Función objetivo"
   ]
  },
  {
   "cell_type": "code",
   "execution_count": 16,
   "metadata": {},
   "outputs": [],
   "source": [
    "objective_terms = []\n",
    "for i in partidos:\n",
    "    for j in lista_dias:\n",
    "        objective_terms.append(predicciones[i,j] * x[i, j])\n",
    "solver.Maximize(solver.Sum(objective_terms))"
   ]
  },
  {
   "cell_type": "markdown",
   "metadata": {},
   "source": [
    "### Resultado"
   ]
  },
  {
   "cell_type": "code",
   "execution_count": 17,
   "metadata": {
    "scrolled": true
   },
   "outputs": [
    {
     "name": "stdout",
     "output_type": "stream",
     "text": [
      "Sin solución.\n"
     ]
    }
   ],
   "source": [
    "from time import time\n",
    "\n",
    "t0 = time()\n",
    "\n",
    "solver.SetTimeLimit(540 * 60 * 1000) # Maximo de tiempo en ms\n",
    "solver.SetNumThreads(6)\n",
    "status = solver.Solve()\n",
    "\n",
    "t1 = time() - t0\n",
    "\n",
    "if status == pywraplp.Solver.OPTIMAL or status == pywraplp.Solver.FEASIBLE:\n",
    "    print(f'Audiencia total = {int(solver.Objective().Value())} espectadores\\n')\n",
    "    print(f'Audiencia media = {int(solver.Objective().Value()/380)} espectadores\\n')\n",
    "    cont = 0\n",
    "    for i in partidos:\n",
    "        for j in lista_dias:\n",
    "            # Test if x[i,j] is 1 (with tolerance for floating point arithmetic).\n",
    "            if x[i, j].solution_value() > 0.5:\n",
    "                cont+=1\n",
    "                print(f'Partido {i} jugado el día {j}.' +\n",
    "                      f' Audiencia esperada: {int(predicciones[(i,j)])} espectadores')\n",
    "                \n",
    "    print(f'\\nPartidos totales jugados: {cont}')\n",
    "    \n",
    "else:\n",
    "    print('Sin solución.')"
   ]
  },
  {
   "cell_type": "code",
   "execution_count": 18,
   "metadata": {},
   "outputs": [
    {
     "name": "stdout",
     "output_type": "stream",
     "text": [
      "Ha tardado 9.0 horas, 1.0 minutos y 45.9 segundos\n"
     ]
    }
   ],
   "source": [
    "print(f'Ha tardado {t1 // 3600} horas, {t1 % 3600 // 60} minutos y {round(t1 % 60, 2)} segundos')"
   ]
  },
  {
   "cell_type": "code",
   "execution_count": 19,
   "metadata": {},
   "outputs": [
    {
     "data": {
      "text/plain": [
       "6"
      ]
     },
     "execution_count": 19,
     "metadata": {},
     "output_type": "execute_result"
    }
   ],
   "source": [
    "status"
   ]
  },
  {
   "cell_type": "markdown",
   "metadata": {},
   "source": [
    "### Comprobación de restricciones"
   ]
  },
  {
   "cell_type": "markdown",
   "metadata": {},
   "source": [
    "\"results\" es una matriz en el que las filas son los partidos y las columnas los día. results[i,j] = 1 si se juega el partido i el día j. Como es una matriz no se puede indexar con texto, por lo que \"i\" y \"j\" son el índice que corresponde a ese día y a es partido. Por ejemplo, el i = 0 corresponde al partido ('Real Madrid CF', 'FC Barcelona'). Si tienes el nombre del partido o el día y lo quieres pasar a índice puedes utilizar \"partido_a_ind\" o \"dia_a_ind\"."
   ]
  },
  {
   "cell_type": "code",
   "execution_count": 20,
   "metadata": {},
   "outputs": [],
   "source": [
    "import pandas as pd\n",
    "import numpy as np\n",
    "\n",
    "dia_a_ind = {dia : i for i, dia in enumerate(lista_dias)}\n",
    "partido_a_ind = {p : i for i, p in enumerate(partidos)}\n",
    "results = np.zeros((len(partidos), len(lista_dias)))\n",
    "\n",
    "for k,v in x.items():\n",
    "    i, j = k\n",
    "    i = partido_a_ind[i]\n",
    "    j = dia_a_ind[j]\n",
    "    \n",
    "    results[i, j] = v.solution_value()\n",
    "    \n",
    "# int(round(v.solution_value()))"
   ]
  },
  {
   "cell_type": "code",
   "execution_count": 21,
   "metadata": {},
   "outputs": [],
   "source": [
    "import pickle\n",
    "\n",
    "with open('../Data/results.pkl', 'wb') as file:\n",
    "    pickle.dump(results, file)"
   ]
  },
  {
   "cell_type": "markdown",
   "metadata": {},
   "source": [
    "<div class=\"alert alert-info\">\n",
    "  <strong>Día lectivo</strong>\n",
    "</div>"
   ]
  },
  {
   "cell_type": "code",
   "execution_count": 22,
   "metadata": {},
   "outputs": [
    {
     "name": "stdout",
     "output_type": "stream",
     "text": [
      "La restricción no va bien\n"
     ]
    }
   ],
   "source": [
    "bien = True\n",
    "for partido, dia_lectivo in dl.items():\n",
    "    i = partido_a_ind[partido]\n",
    "    j = round(dia_lectivo.solution_value())\n",
    "\n",
    "    if results[i, j] < 0.5:\n",
    "        print('La restricción no va bien')\n",
    "        bien = False\n",
    "        break\n",
    "    \n",
    "if bien:\n",
    "    print('La restricción funciona correctamente')"
   ]
  },
  {
   "cell_type": "markdown",
   "metadata": {},
   "source": [
    "<div class=\"alert alert-info\">\n",
    "  <strong>Máximo 4 partidos por día</strong>\n",
    "</div>"
   ]
  },
  {
   "cell_type": "code",
   "execution_count": 23,
   "metadata": {},
   "outputs": [
    {
     "name": "stdout",
     "output_type": "stream",
     "text": [
      "La restricción funciona correctamente\n"
     ]
    }
   ],
   "source": [
    "suma = np.sum(results, axis = 0) \n",
    "if np.all(suma <= 4):\n",
    "    print('La restricción funciona correctamente')\n",
    "else: print('La restricción no va bien')"
   ]
  },
  {
   "cell_type": "markdown",
   "metadata": {},
   "source": [
    "<div class=\"alert alert-info\">\n",
    "  <strong>Todos los partidos tienen que jugarse una vez</strong>\n",
    "</div>"
   ]
  },
  {
   "cell_type": "code",
   "execution_count": 24,
   "metadata": {},
   "outputs": [
    {
     "name": "stdout",
     "output_type": "stream",
     "text": [
      "La restricción no va bien\n"
     ]
    }
   ],
   "source": [
    "suma = np.sum(results, axis = 1)\n",
    "if np.all(suma > 0):\n",
    "    print('La restricción funciona correctamente')\n",
    "else: print('La restricción no va bien')"
   ]
  },
  {
   "cell_type": "markdown",
   "metadata": {},
   "source": [
    "<div class=\"alert alert-info\">\n",
    "  <strong>Las cadenas de TV prefieren que los partidos sean el finde</strong>\n",
    "</div>"
   ]
  },
  {
   "cell_type": "code",
   "execution_count": 25,
   "metadata": {},
   "outputs": [
    {
     "name": "stdout",
     "output_type": "stream",
     "text": [
      "La restricción funciona correctamente\n"
     ]
    }
   ],
   "source": [
    "prop = np.sum(results)*0.6\n",
    "finde = np.array(es_finde) == True\n",
    "partidos_por_dias = np.sum(results,axis=0)\n",
    "\n",
    "if np.sum(partidos_por_dias[finde]) >= prop:\n",
    "    print('La restricción funciona correctamente')\n",
    "else: print('La restricción no va bien')"
   ]
  },
  {
   "cell_type": "markdown",
   "metadata": {},
   "source": [
    "<div class=\"alert alert-info\">\n",
    "  <strong>Separar los partidos de ida y vuelta (mínimo 60 días jugables)</strong>\n",
    "</div>"
   ]
  },
  {
   "cell_type": "code",
   "execution_count": 26,
   "metadata": {},
   "outputs": [
    {
     "ename": "IndexError",
     "evalue": "index 0 is out of bounds for axis 0 with size 0",
     "output_type": "error",
     "traceback": [
      "\u001b[1;31m---------------------------------------------------------------------------\u001b[0m",
      "\u001b[1;31mIndexError\u001b[0m                                Traceback (most recent call last)",
      "\u001b[1;32m~\\AppData\\Local\\Temp/ipykernel_10860/2275172008.py\u001b[0m in \u001b[0;36m<module>\u001b[1;34m\u001b[0m\n\u001b[0;32m      2\u001b[0m     \u001b[0mida\u001b[0m \u001b[1;33m=\u001b[0m \u001b[0mresults\u001b[0m\u001b[1;33m[\u001b[0m\u001b[0mpartido_a_ind\u001b[0m\u001b[1;33m[\u001b[0m\u001b[0mpartido\u001b[0m\u001b[1;33m]\u001b[0m\u001b[1;33m]\u001b[0m\u001b[1;33m\u001b[0m\u001b[1;33m\u001b[0m\u001b[0m\n\u001b[0;32m      3\u001b[0m     \u001b[0mvuelta\u001b[0m \u001b[1;33m=\u001b[0m \u001b[0mresults\u001b[0m\u001b[1;33m[\u001b[0m\u001b[0mpartido_a_ind\u001b[0m\u001b[1;33m[\u001b[0m\u001b[0mpartido\u001b[0m\u001b[1;33m[\u001b[0m\u001b[1;36m1\u001b[0m\u001b[1;33m]\u001b[0m\u001b[1;33m,\u001b[0m \u001b[0mpartido\u001b[0m\u001b[1;33m[\u001b[0m\u001b[1;36m0\u001b[0m\u001b[1;33m]\u001b[0m\u001b[1;33m]\u001b[0m\u001b[1;33m]\u001b[0m\u001b[1;33m\u001b[0m\u001b[1;33m\u001b[0m\u001b[0m\n\u001b[1;32m----> 4\u001b[1;33m     \u001b[0mdia_ida\u001b[0m \u001b[1;33m=\u001b[0m \u001b[0mnp\u001b[0m\u001b[1;33m.\u001b[0m\u001b[0mwhere\u001b[0m\u001b[1;33m(\u001b[0m\u001b[0mida\u001b[0m \u001b[1;33m==\u001b[0m \u001b[1;36m1\u001b[0m\u001b[1;33m)\u001b[0m\u001b[1;33m[\u001b[0m\u001b[1;36m0\u001b[0m\u001b[1;33m]\u001b[0m\u001b[1;33m[\u001b[0m\u001b[1;36m0\u001b[0m\u001b[1;33m]\u001b[0m\u001b[1;33m\u001b[0m\u001b[1;33m\u001b[0m\u001b[0m\n\u001b[0m\u001b[0;32m      5\u001b[0m     \u001b[0mdia_vuelta\u001b[0m \u001b[1;33m=\u001b[0m \u001b[0mnp\u001b[0m\u001b[1;33m.\u001b[0m\u001b[0mwhere\u001b[0m\u001b[1;33m(\u001b[0m\u001b[0mvuelta\u001b[0m \u001b[1;33m==\u001b[0m \u001b[1;36m1\u001b[0m\u001b[1;33m)\u001b[0m\u001b[1;33m[\u001b[0m\u001b[1;36m0\u001b[0m\u001b[1;33m]\u001b[0m\u001b[1;33m[\u001b[0m\u001b[1;36m0\u001b[0m\u001b[1;33m]\u001b[0m\u001b[1;33m\u001b[0m\u001b[1;33m\u001b[0m\u001b[0m\n\u001b[0;32m      6\u001b[0m     \u001b[1;32mif\u001b[0m \u001b[0mabs\u001b[0m\u001b[1;33m(\u001b[0m\u001b[0mdia_ida\u001b[0m \u001b[1;33m-\u001b[0m \u001b[0mdia_vuelta\u001b[0m\u001b[1;33m)\u001b[0m \u001b[1;33m<\u001b[0m \u001b[1;36m60\u001b[0m\u001b[1;33m:\u001b[0m\u001b[1;33m\u001b[0m\u001b[1;33m\u001b[0m\u001b[0m\n",
      "\u001b[1;31mIndexError\u001b[0m: index 0 is out of bounds for axis 0 with size 0"
     ]
    }
   ],
   "source": [
    "for partido in partidos:\n",
    "    ida = results[partido_a_ind[partido]]\n",
    "    vuelta = results[partido_a_ind[partido[1], partido[0]]]\n",
    "    dia_ida = np.where(ida == 1)[0][0]\n",
    "    dia_vuelta = np.where(vuelta == 1)[0][0]\n",
    "    if abs(dia_ida - dia_vuelta) < 60:\n",
    "        print('La restricción no va bien')\n",
    "else:\n",
    "    print('La restricción funciona correctamente')"
   ]
  },
  {
   "cell_type": "markdown",
   "metadata": {},
   "source": [
    "<div class=\"alert alert-info\">\n",
    "  <strong>Es deseable que no se jueguen demasiados partidos seguidos en casa o como visitante</strong>\n",
    "</div>"
   ]
  },
  {
   "cell_type": "code",
   "execution_count": null,
   "metadata": {},
   "outputs": [],
   "source": [
    "try:\n",
    "    for equipo1 in equipos:\n",
    "        partidos_equipo1 = np.zeros(len(lista_dias))\n",
    "        for equipo2 in equipos:\n",
    "            if equipo1 != equipo2:\n",
    "                local = partido_a_ind[equipo1, equipo2]\n",
    "                vis = partido_a_ind[equipo2, equipo1]\n",
    "                partidos_equipo1 += results[local] - results[vis]\n",
    "        \n",
    "        aux = 0\n",
    "        for p in partidos_equipo1:\n",
    "            aux += p\n",
    "            if aux < -1 or aux > 1:\n",
    "                raise RuntimeError(\"No va\")\n",
    "                \n",
    "except RuntimeError:\n",
    "    print('La restricción no va bien')\n",
    "    \n",
    "else:\n",
    "    print('La restricción funciona correctamente')"
   ]
  },
  {
   "cell_type": "markdown",
   "metadata": {},
   "source": [
    "<div class=\"alert alert-info\">\n",
    "  <strong>No muchos partidos seguidos del mismo equipo (mínimo 3 días entre partido y partido)</strong>\n",
    "</div>"
   ]
  },
  {
   "cell_type": "code",
   "execution_count": null,
   "metadata": {},
   "outputs": [],
   "source": [
    "from datetime import datetime\n",
    "for e in equipos:\n",
    "    for i in partidos:\n",
    "        # COMPRUEBA IDAS\n",
    "        if i[0] == e:\n",
    "            # Iteramos cada par de partidos de ese equipo\n",
    "            for i_aux in partidos:\n",
    "                if i[1] != i_aux[1] and i_aux[0] == e: # Omite el mismo partido\n",
    "                    indice_dia = np.where(results[partido_a_ind[i]] == 1)[0][0]\n",
    "                    indice_dia_aux = np.where(results[partido_a_ind[i_aux]] == 1)[0][0]\n",
    "\n",
    "                    #Saca fechas de ambos partidos\n",
    "                    for fecha, v in dia_a_ind.items(): \n",
    "                        if v == indice_dia:\n",
    "                            f1 = fecha\n",
    "                        if v == indice_dia_aux:\n",
    "                            f2 = fecha\n",
    "                    # Comprobamos que pasan al menos tres dias\n",
    "                    f_date = datetime.strptime(f1,'%d-%m-%Y')\n",
    "                    l_date = datetime.strptime(f2,'%d-%m-%Y')\n",
    "                    delta = abs(f_date - l_date)\n",
    "                    if delta.days <3:\n",
    "                        print('La restricción no va bien')\n",
    "        \n",
    "        # COMPRUEBA VUELTAS\n",
    "        if i[1] == e:\n",
    "\n",
    "            for i_aux in partidos:\n",
    "                if i[0] != i_aux[0] and i_aux[1] == e: # Omite el mismo partido\n",
    "                    indice_dia = np.where(results[partido_a_ind[i]] == 1)[0][0]\n",
    "                    indice_dia_aux = np.where(results[partido_a_ind[i_aux]] == 1)[0][0]\n",
    "                    #Saca fechas de ambos partidos\n",
    "                    for fecha, v in dia_a_ind.items():  \n",
    "                        if v == indice_dia:\n",
    "                            f1 = fecha\n",
    "                        if v == indice_dia_aux:\n",
    "                            f2 = fecha\n",
    "                    # Comprobamos que pasan al menos tres dias\n",
    "                    f_date = datetime.strptime(f1,'%d-%m-%Y')\n",
    "                    l_date = datetime.strptime(f2,'%d-%m-%Y')\n",
    "                    delta = abs(f_date - l_date)\n",
    "                    if delta.days <3:\n",
    "                        print('La restricción no va bien')\n",
    "else:\n",
    "    print('La restricción funciona correctamente')"
   ]
  },
  {
   "cell_type": "markdown",
   "metadata": {},
   "source": [
    "<div class=\"alert alert-info\">\n",
    "  <strong>Máximo de 5 días sin jugar un mismo equipo</strong>\n",
    "</div>"
   ]
  },
  {
   "cell_type": "code",
   "execution_count": null,
   "metadata": {},
   "outputs": [],
   "source": [
    "for j,_ in enumerate(lista_dias):\n",
    "    if j < 140:\n",
    "        for e in equipos:\n",
    "            lista_partidos_equipo = []\n",
    "            suma = 0\n",
    "            for i in partidos:\n",
    "                if e in i:\n",
    "                    lista_partidos_equipo.append(partido_a_ind[i])\n",
    "            for arr in results[lista_partidos_equipo]: # partidos de ese equipo\n",
    "                suma += np.sum(arr[j:j+5]) #añadimos los partidos de ese equipo que se juegan en esos días\n",
    "            if suma < 1:\n",
    "                print('La restriccion no funciona correctamente')\n",
    "else: print('La restriccion funciona correctamente')  "
   ]
  }
 ],
 "metadata": {
  "kernelspec": {
   "display_name": "Python 3 (ipykernel)",
   "language": "python",
   "name": "python3"
  },
  "language_info": {
   "codemirror_mode": {
    "name": "ipython",
    "version": 3
   },
   "file_extension": ".py",
   "mimetype": "text/x-python",
   "name": "python",
   "nbconvert_exporter": "python",
   "pygments_lexer": "ipython3",
   "version": "3.9.7"
  },
  "vscode": {
   "interpreter": {
    "hash": "d769fb3200fc277f8ee95a9cc724831c284e91c864b33f0c557335d16a82712c"
   }
  }
 },
 "nbformat": 4,
 "nbformat_minor": 2
}
