{
 "cells": [
  {
   "cell_type": "markdown",
   "metadata": {},
   "source": [
    "# Proyecto 1. Calendario laLiga"
   ]
  },
  {
   "cell_type": "code",
   "execution_count": 1,
   "metadata": {},
   "outputs": [],
   "source": [
    "# !pip install ortools"
   ]
  },
  {
   "cell_type": "markdown",
   "metadata": {},
   "source": [
    "#### Partidos"
   ]
  },
  {
   "cell_type": "code",
   "execution_count": 2,
   "metadata": {},
   "outputs": [],
   "source": [
    "import pandas as pd\n",
    "from itertools import permutations\n",
    "\n",
    "df = pd.read_csv('../Data/equipos_data.csv', index_col = 0)\n",
    "equipos = list(df['equipo'].unique())\n",
    "partidos = list(permutations(df['equipo'].unique(), 2))"
   ]
  },
  {
   "cell_type": "markdown",
   "metadata": {},
   "source": [
    "#### Días"
   ]
  },
  {
   "cell_type": "code",
   "execution_count": 3,
   "metadata": {},
   "outputs": [],
   "source": [
    "import pickle\n",
    "filename = '../Data/list_calendar.pkl'\n",
    "lista_dias = open(filename, 'rb')\n",
    "with open(filename, 'rb') as f:\n",
    "    lista_dias=pickle.load(f)\n",
    "# lista_dias"
   ]
  },
  {
   "cell_type": "markdown",
   "metadata": {},
   "source": [
    "### Modelo"
   ]
  },
  {
   "cell_type": "code",
   "execution_count": 4,
   "metadata": {},
   "outputs": [],
   "source": [
    "filename = '../Data/predicciones.pickle'\n",
    "predicciones = open(filename, 'rb')\n",
    "with open(filename, 'rb') as f:\n",
    "    predicciones=pickle.load(f)"
   ]
  },
  {
   "cell_type": "markdown",
   "metadata": {},
   "source": [
    "## Modelado"
   ]
  },
  {
   "cell_type": "markdown",
   "metadata": {},
   "source": [
    "### Variables"
   ]
  },
  {
   "cell_type": "markdown",
   "metadata": {},
   "source": [
    "https://developers.google.com/optimization/assignment/assignment_example"
   ]
  },
  {
   "cell_type": "code",
   "execution_count": 5,
   "metadata": {},
   "outputs": [],
   "source": [
    "from ortools.linear_solver import pywraplp\n",
    "solver = pywraplp.Solver.CreateSolver('GLOP')\n",
    "\n",
    "x = {}\n",
    "for i in partidos:\n",
    "    for j in lista_dias:\n",
    "        x[i, j] = solver.IntVar(0, 1, f'Partido {i} jugado el dia {j}')"
   ]
  },
  {
   "cell_type": "markdown",
   "metadata": {},
   "source": [
    "### Variables ficticias"
   ]
  },
  {
   "cell_type": "code",
   "execution_count": 6,
   "metadata": {},
   "outputs": [],
   "source": [
    "dl = {}\n",
    "for i in partidos:\n",
    "    dl[i] = solver.IntVar(0, len(lista_dias)-1, f'Día lectivo en el que se juega {i}')\n",
    "    solver.Add(dl[i] == solver.Sum([dia * x[i,j] for dia, j in enumerate(lista_dias)]))"
   ]
  },
  {
   "cell_type": "markdown",
   "metadata": {},
   "source": [
    "### Restricciones"
   ]
  },
  {
   "cell_type": "markdown",
   "metadata": {},
   "source": [
    "<div class=\"alert alert-info\">\n",
    "  <strong>Máximo 4 partidos por día</strong>\n",
    "</div>"
   ]
  },
  {
   "cell_type": "code",
   "execution_count": 7,
   "metadata": {},
   "outputs": [],
   "source": [
    "for j in lista_dias:\n",
    "    solver.Add(solver.Sum([x[i, j] for i in partidos])<=4)"
   ]
  },
  {
   "cell_type": "markdown",
   "metadata": {},
   "source": [
    "<div class=\"alert alert-info\">\n",
    "  <strong>Máximo 380 partidos (hay que ponerla en el documento) </strong>\n",
    "</div>"
   ]
  },
  {
   "cell_type": "code",
   "execution_count": 8,
   "metadata": {},
   "outputs": [],
   "source": [
    "c_380partidos = solver.Constraint(380, 380, \"380partidos_maximo\")\n",
    "\n",
    "for i in partidos:\n",
    "    for j in lista_dias:\n",
    "        c_380partidos.SetCoefficient(x[i,j],1)"
   ]
  },
  {
   "cell_type": "markdown",
   "metadata": {},
   "source": [
    "<div class=\"alert alert-info\">\n",
    "  <strong>Todos los partidos tienen que jugarse una vez</strong>\n",
    "</div>"
   ]
  },
  {
   "cell_type": "code",
   "execution_count": 9,
   "metadata": {},
   "outputs": [],
   "source": [
    "for i in partidos:\n",
    "    solver.Add(solver.Sum([x[i, j] for j in lista_dias])==1)"
   ]
  },
  {
   "cell_type": "markdown",
   "metadata": {},
   "source": [
    "### Función objetivo"
   ]
  },
  {
   "cell_type": "code",
   "execution_count": 10,
   "metadata": {},
   "outputs": [],
   "source": [
    "objective_terms = []\n",
    "for i in partidos:\n",
    "    for j in lista_dias:\n",
    "        objective_terms.append(predicciones[i,j] * x[i, j])\n",
    "solver.Maximize(solver.Sum(objective_terms))"
   ]
  },
  {
   "cell_type": "markdown",
   "metadata": {},
   "source": [
    "### Resultado"
   ]
  },
  {
   "cell_type": "code",
   "execution_count": 11,
   "metadata": {
    "scrolled": true
   },
   "outputs": [
    {
     "name": "stdout",
     "output_type": "stream",
     "text": [
      "Audiencia total = 13482152 espectadores\n",
      "\n",
      "Audiencia media = 35479 espectadores\n",
      "\n",
      "Partido ('Real Madrid CF', 'FC Barcelona') jugado el día 10-03-2023. Audiencia esperada: 82428 espectadores\n",
      "Partido ('Real Madrid CF', 'Atlético de Madrid') jugado el día 27-08-2022. Audiencia esperada: 69975 espectadores\n",
      "Partido ('Real Madrid CF', 'Sevilla FC') jugado el día 21-04-2023. Audiencia esperada: 75169 espectadores\n",
      "Partido ('Real Madrid CF', 'Real Betis Balompié') jugado el día 14-05-2023. Audiencia esperada: 77598 espectadores\n",
      "Partido ('Real Madrid CF', 'Real Sociedad') jugado el día 03-06-2023. Audiencia esperada: 75270 espectadores\n",
      "Partido ('Real Madrid CF', 'Villarreal CF') jugado el día 01-04-2023. Audiencia esperada: 89682 espectadores\n",
      "Partido ('Real Madrid CF', 'Athletic Club') jugado el día 26-05-2023. Audiencia esperada: 79063 espectadores\n",
      "Partido ('Real Madrid CF', 'Valencia CF') jugado el día 12-02-2023. Audiencia esperada: 78380 espectadores\n",
      "Partido ('Real Madrid CF', 'CA Osasuna') jugado el día 02-06-2023. Audiencia esperada: 73663 espectadores\n",
      "Partido ('Real Madrid CF', 'RC Celta de Vigo') jugado el día 04-03-2023. Audiencia esperada: 80551 espectadores\n",
      "Partido ('Real Madrid CF', 'Rayo Vallecano') jugado el día 04-06-2023. Audiencia esperada: 83570 espectadores\n",
      "Partido ('Real Madrid CF', 'Elche CF') jugado el día 04-03-2023. Audiencia esperada: 80162 espectadores\n",
      "Partido ('Real Madrid CF', 'RCD Espanyol') jugado el día 06-05-2023. Audiencia esperada: 75899 espectadores\n",
      "Partido ('Real Madrid CF', 'Getafe CF') jugado el día 01-04-2023. Audiencia esperada: 79037 espectadores\n",
      "Partido ('Real Madrid CF', 'RCD Mallorca') jugado el día 03-03-2023. Audiencia esperada: 71165 espectadores\n",
      "Partido ('Real Madrid CF', 'Cádiz CF') jugado el día 02-06-2023. Audiencia esperada: 71310 espectadores\n",
      "Partido ('Real Madrid CF', 'UD Almería') jugado el día 07-05-2023. Audiencia esperada: 71387 espectadores\n",
      "Partido ('Real Madrid CF', 'Real Valladolid CF') jugado el día 11-09-2022. Audiencia esperada: 61243 espectadores\n",
      "Partido ('Real Madrid CF', 'Girona FC') jugado el día 25-03-2023. Audiencia esperada: 78051 espectadores\n",
      "Partido ('FC Barcelona', 'Real Madrid CF') jugado el día 28-04-2023. Audiencia esperada: 103173 espectadores\n",
      "Partido ('FC Barcelona', 'Atlético de Madrid') jugado el día 05-05-2023. Audiencia esperada: 100869 espectadores\n",
      "Partido ('FC Barcelona', 'Sevilla FC') jugado el día 03-06-2023. Audiencia esperada: 98488 espectadores\n",
      "Partido ('FC Barcelona', 'Real Betis Balompié') jugado el día 05-05-2023. Audiencia esperada: 108980 espectadores\n",
      "Partido ('FC Barcelona', 'Real Sociedad') jugado el día 06-11-2022. Audiencia esperada: 100737 espectadores\n",
      "Partido ('FC Barcelona', 'Villarreal CF') jugado el día 02-10-2022. Audiencia esperada: 99448 espectadores\n",
      "Partido ('FC Barcelona', 'Athletic Club') jugado el día 07-05-2023. Audiencia esperada: 93951 espectadores\n",
      "Partido ('FC Barcelona', 'Valencia CF') jugado el día 24-03-2023. Audiencia esperada: 99170 espectadores\n",
      "Partido ('FC Barcelona', 'CA Osasuna') jugado el día 01-04-2023. Audiencia esperada: 101248 espectadores\n",
      "Partido ('FC Barcelona', 'RC Celta de Vigo') jugado el día 10-03-2023. Audiencia esperada: 107270 espectadores\n",
      "Partido ('FC Barcelona', 'Rayo Vallecano') jugado el día 26-05-2023. Audiencia esperada: 107528 espectadores\n",
      "Partido ('FC Barcelona', 'Elche CF') jugado el día 23-10-2022. Audiencia esperada: 98478 espectadores\n",
      "Partido ('FC Barcelona', 'RCD Espanyol') jugado el día 04-09-2022. Audiencia esperada: 93040 espectadores\n",
      "Partido ('FC Barcelona', 'Getafe CF') jugado el día 05-11-2022. Audiencia esperada: 98736 espectadores\n",
      "Partido ('FC Barcelona', 'RCD Mallorca') jugado el día 06-11-2022. Audiencia esperada: 99927 espectadores\n",
      "Partido ('FC Barcelona', 'Cádiz CF') jugado el día 20-01-2023. Audiencia esperada: 94522 espectadores\n",
      "Partido ('FC Barcelona', 'UD Almería') jugado el día 05-11-2022. Audiencia esperada: 100734 espectadores\n",
      "Partido ('FC Barcelona', 'Real Valladolid CF') jugado el día 14-05-2023. Audiencia esperada: 96246 espectadores\n",
      "Partido ('FC Barcelona', 'Girona FC') jugado el día 10-03-2023. Audiencia esperada: 98899 espectadores\n",
      "Partido ('Atlético de Madrid', 'Real Madrid CF') jugado el día 04-09-2022. Audiencia esperada: 70108 espectadores\n",
      "Partido ('Atlético de Madrid', 'FC Barcelona') jugado el día 21-08-2022. Audiencia esperada: 71574 espectadores\n",
      "Partido ('Atlético de Madrid', 'Sevilla FC') jugado el día 17-03-2023. Audiencia esperada: 74747 espectadores\n",
      "Partido ('Atlético de Madrid', 'Real Betis Balompié') jugado el día 27-08-2022. Audiencia esperada: 68564 espectadores\n",
      "Partido ('Atlético de Madrid', 'Real Sociedad') jugado el día 08-10-2022. Audiencia esperada: 70850 espectadores\n",
      "Partido ('Atlético de Madrid', 'Villarreal CF') jugado el día 16-04-2023. Audiencia esperada: 75399 espectadores\n",
      "Partido ('Atlético de Madrid', 'Athletic Club') jugado el día 26-08-2022. Audiencia esperada: 71026 espectadores\n",
      "Partido ('Atlético de Madrid', 'Valencia CF') jugado el día 17-09-2022. Audiencia esperada: 73067 espectadores\n",
      "Partido ('Atlético de Madrid', 'CA Osasuna') jugado el día 15-04-2023. Audiencia esperada: 68346 espectadores\n",
      "Partido ('Atlético de Madrid', 'RC Celta de Vigo') jugado el día 03-06-2023. Audiencia esperada: 66670 espectadores\n",
      "Partido ('Atlético de Madrid', 'Rayo Vallecano') jugado el día 22-04-2023. Audiencia esperada: 68352 espectadores\n",
      "Partido ('Atlético de Madrid', 'Elche CF') jugado el día 18-03-2023. Audiencia esperada: 64218 espectadores\n",
      "Partido ('Atlético de Madrid', 'RCD Espanyol') jugado el día 10-09-2022. Audiencia esperada: 69213 espectadores\n",
      "Partido ('Atlético de Madrid', 'Getafe CF') jugado el día 30-04-2023. Audiencia esperada: 66062 espectadores\n",
      "Partido ('Atlético de Madrid', 'RCD Mallorca') jugado el día 04-11-2022. Audiencia esperada: 67869 espectadores\n",
      "Partido ('Atlético de Madrid', 'Cádiz CF') jugado el día 19-08-2022. Audiencia esperada: 69574 espectadores\n",
      "Partido ('Atlético de Madrid', 'UD Almería') jugado el día 27-01-2023. Audiencia esperada: 69553 espectadores\n",
      "Partido ('Atlético de Madrid', 'Real Valladolid CF') jugado el día 11-03-2023. Audiencia esperada: 67694 espectadores\n",
      "Partido ('Atlético de Madrid', 'Girona FC') jugado el día 04-11-2022. Audiencia esperada: 61769 espectadores\n",
      "Partido ('Sevilla FC', 'Real Madrid CF') jugado el día 04-02-2023. Audiencia esperada: 46609 espectadores\n",
      "Partido ('Sevilla FC', 'FC Barcelona') jugado el día 08-10-2022. Audiencia esperada: 46214 espectadores\n",
      "Partido ('Sevilla FC', 'Atlético de Madrid') jugado el día 12-03-2023. Audiencia esperada: 44355 espectadores\n",
      "Partido ('Sevilla FC', 'Real Betis Balompié') jugado el día 14-01-2023. Audiencia esperada: 42047 espectadores\n",
      "Partido ('Sevilla FC', 'Real Sociedad') jugado el día 03-02-2023. Audiencia esperada: 46522 espectadores\n",
      "Partido ('Sevilla FC', 'Villarreal CF') jugado el día 09-10-2022. Audiencia esperada: 43832 espectadores\n",
      "Partido ('Sevilla FC', 'Athletic Club') jugado el día 15-10-2022. Audiencia esperada: 41505 espectadores\n",
      "Partido ('Sevilla FC', 'Valencia CF') jugado el día 30-10-2022. Audiencia esperada: 40339 espectadores\n",
      "Partido ('Sevilla FC', 'CA Osasuna') jugado el día 10-03-2023. Audiencia esperada: 43218 espectadores\n",
      "Partido ('Sevilla FC', 'RC Celta de Vigo') jugado el día 21-05-2023. Audiencia esperada: 42776 espectadores\n",
      "Partido ('Sevilla FC', 'Rayo Vallecano') jugado el día 14-10-2022. Audiencia esperada: 40873 espectadores\n",
      "Partido ('Sevilla FC', 'Elche CF') jugado el día 18-03-2023. Audiencia esperada: 43572 espectadores\n",
      "Partido ('Sevilla FC', 'RCD Espanyol') jugado el día 18-09-2022. Audiencia esperada: 42582 espectadores\n",
      "Partido ('Sevilla FC', 'Getafe CF') jugado el día 22-04-2023. Audiencia esperada: 40828 espectadores\n",
      "Partido ('Sevilla FC', 'RCD Mallorca') jugado el día 17-03-2023. Audiencia esperada: 37072 espectadores\n",
      "Partido ('Sevilla FC', 'Cádiz CF') jugado el día 11-02-2023. Audiencia esperada: 40155 espectadores\n",
      "Partido ('Sevilla FC', 'UD Almería') jugado el día 28-10-2022. Audiencia esperada: 41468 espectadores\n",
      "Partido ('Sevilla FC', 'Real Valladolid CF') jugado el día 05-03-2023. Audiencia esperada: 41281 espectadores\n",
      "Partido ('Sevilla FC', 'Girona FC') jugado el día 24-02-2023. Audiencia esperada: 41100 espectadores\n",
      "Partido ('Real Betis Balompié', 'Real Madrid CF') jugado el día 20-01-2023. Audiencia esperada: 60454 espectadores\n",
      "Partido ('Real Betis Balompié', 'FC Barcelona') jugado el día 03-09-2022. Audiencia esperada: 58547 espectadores\n",
      "Partido ('Real Betis Balompié', 'Atlético de Madrid') jugado el día 13-01-2023. Audiencia esperada: 59364 espectadores\n",
      "Partido ('Real Betis Balompié', 'Sevilla FC') jugado el día 22-04-2023. Audiencia esperada: 54140 espectadores\n",
      "Partido ('Real Betis Balompié', 'Real Sociedad') jugado el día 30-09-2022. Audiencia esperada: 60753 espectadores\n",
      "Partido ('Real Betis Balompié', 'Villarreal CF') jugado el día 24-03-2023. Audiencia esperada: 58377 espectadores\n",
      "Partido ('Real Betis Balompié', 'Athletic Club') jugado el día 05-02-2023. Audiencia esperada: 57269 espectadores\n",
      "Partido ('Real Betis Balompié', 'Valencia CF') jugado el día 24-09-2022. Audiencia esperada: 57356 espectadores\n",
      "Partido ('Real Betis Balompié', 'CA Osasuna') jugado el día 15-04-2023. Audiencia esperada: 57540 espectadores\n",
      "Partido ('Real Betis Balompié', 'RC Celta de Vigo') jugado el día 14-04-2023. Audiencia esperada: 54261 espectadores\n",
      "Partido ('Real Betis Balompié', 'Rayo Vallecano') jugado el día 12-02-2023. Audiencia esperada: 59089 espectadores\n",
      "Partido ('Real Betis Balompié', 'Elche CF') jugado el día 28-02-2023. Audiencia esperada: 59461 espectadores\n",
      "Partido ('Real Betis Balompié', 'RCD Espanyol') jugado el día 15-04-2023. Audiencia esperada: 61423 espectadores\n",
      "Partido ('Real Betis Balompié', 'Getafe CF') jugado el día 19-03-2023. Audiencia esperada: 58364 espectadores\n",
      "Partido ('Real Betis Balompié', 'RCD Mallorca') jugado el día 02-09-2022. Audiencia esperada: 55077 espectadores\n",
      "Partido ('Real Betis Balompié', 'Cádiz CF') jugado el día 03-09-2022. Audiencia esperada: 52133 espectadores\n",
      "Partido ('Real Betis Balompié', 'UD Almería') jugado el día 29-04-2023. Audiencia esperada: 54543 espectadores\n",
      "Partido ('Real Betis Balompié', 'Real Valladolid CF') jugado el día 29-01-2023. Audiencia esperada: 49885 espectadores\n",
      "Partido ('Real Betis Balompié', 'Girona FC') jugado el día 26-02-2023. Audiencia esperada: 49420 espectadores\n",
      "Partido ('Real Sociedad', 'Real Madrid CF') jugado el día 29-01-2023. Audiencia esperada: 38233 espectadores\n",
      "Partido ('Real Sociedad', 'FC Barcelona') jugado el día 17-09-2022. Audiencia esperada: 31947 espectadores\n",
      "Partido ('Real Sociedad', 'Atlético de Madrid') jugado el día 25-03-2023. Audiencia esperada: 32613 espectadores\n",
      "Partido ('Real Sociedad', 'Sevilla FC') jugado el día 19-03-2023. Audiencia esperada: 35580 espectadores\n",
      "Partido ('Real Sociedad', 'Real Betis Balompié') jugado el día 06-01-2023. Audiencia esperada: 36033 espectadores\n",
      "Partido ('Real Sociedad', 'Villarreal CF') jugado el día 30-09-2022. Audiencia esperada: 36028 espectadores\n",
      "Partido ('Real Sociedad', 'Athletic Club') jugado el día 29-10-2022. Audiencia esperada: 29474 espectadores\n",
      "Partido ('Real Sociedad', 'Valencia CF') jugado el día 25-03-2023. Audiencia esperada: 33136 espectadores\n",
      "Partido ('Real Sociedad', 'CA Osasuna') jugado el día 01-10-2022. Audiencia esperada: 36016 espectadores\n",
      "Partido ('Real Sociedad', 'RC Celta de Vigo') jugado el día 27-08-2022. Audiencia esperada: 35743 espectadores\n",
      "Partido ('Real Sociedad', 'Rayo Vallecano') jugado el día 12-03-2023. Audiencia esperada: 35278 espectadores\n",
      "Partido ('Real Sociedad', 'Elche CF') jugado el día 17-02-2023. Audiencia esperada: 30077 espectadores\n",
      "Partido ('Real Sociedad', 'RCD Espanyol') jugado el día 02-10-2022. Audiencia esperada: 31176 espectadores\n",
      "Partido ('Real Sociedad', 'Getafe CF') jugado el día 19-08-2022. Audiencia esperada: 34621 espectadores\n",
      "Partido ('Real Sociedad', 'RCD Mallorca') jugado el día 28-08-2022. Audiencia esperada: 36756 espectadores\n",
      "Partido ('Real Sociedad', 'Cádiz CF') jugado el día 28-05-2023. Audiencia esperada: 29905 espectadores\n",
      "Partido ('Real Sociedad', 'UD Almería') jugado el día 16-10-2022. Audiencia esperada: 31873 espectadores\n",
      "Partido ('Real Sociedad', 'Real Valladolid CF') jugado el día 11-03-2023. Audiencia esperada: 32299 espectadores\n",
      "Partido ('Real Sociedad', 'Girona FC') jugado el día 17-02-2023. Audiencia esperada: 31884 espectadores\n",
      "Partido ('Villarreal CF', 'Real Madrid CF') jugado el día 28-01-2023. Audiencia esperada: 21416 espectadores\n",
      "Partido ('Villarreal CF', 'FC Barcelona') jugado el día 19-02-2023. Audiencia esperada: 22352 espectadores\n",
      "Partido ('Villarreal CF', 'Atlético de Madrid') jugado el día 09-09-2022. Audiencia esperada: 21774 espectadores\n",
      "Partido ('Villarreal CF', 'Sevilla FC') jugado el día 23-10-2022. Audiencia esperada: 19633 espectadores\n",
      "Partido ('Villarreal CF', 'Real Betis Balompié') jugado el día 04-02-2023. Audiencia esperada: 23312 espectadores\n",
      "Partido ('Villarreal CF', 'Real Sociedad') jugado el día 25-02-2023. Audiencia esperada: 20912 espectadores\n",
      "Partido ('Villarreal CF', 'Athletic Club') jugado el día 12-05-2023. Audiencia esperada: 20389 espectadores\n",
      "Partido ('Villarreal CF', 'Valencia CF') jugado el día 17-03-2023. Audiencia esperada: 24169 espectadores\n",
      "Partido ('Villarreal CF', 'CA Osasuna') jugado el día 19-03-2023. Audiencia esperada: 22767 espectadores\n",
      "Partido ('Villarreal CF', 'RC Celta de Vigo') jugado el día 24-09-2022. Audiencia esperada: 19919 espectadores\n",
      "Partido ('Villarreal CF', 'Rayo Vallecano') jugado el día 03-03-2023. Audiencia esperada: 19108 espectadores\n",
      "Partido ('Villarreal CF', 'Elche CF') jugado el día 04-02-2023. Audiencia esperada: 21762 espectadores\n",
      "Partido ('Villarreal CF', 'RCD Espanyol') jugado el día 10-09-2022. Audiencia esperada: 18377 espectadores\n",
      "Partido ('Villarreal CF', 'Getafe CF') jugado el día 25-02-2023. Audiencia esperada: 19242 espectadores\n",
      "Partido ('Villarreal CF', 'RCD Mallorca') jugado el día 17-03-2023. Audiencia esperada: 19981 espectadores\n",
      "Partido ('Villarreal CF', 'Cádiz CF') jugado el día 25-02-2023. Audiencia esperada: 20411 espectadores\n",
      "Partido ('Villarreal CF', 'UD Almería') jugado el día 20-05-2023. Audiencia esperada: 21890 espectadores\n",
      "Partido ('Villarreal CF', 'Real Valladolid CF') jugado el día 03-09-2022. Audiencia esperada: 19602 espectadores\n",
      "Partido ('Villarreal CF', 'Girona FC') jugado el día 26-02-2023. Audiencia esperada: 20882 espectadores\n",
      "Partido ('Athletic Club', 'Real Madrid CF') jugado el día 18-09-2022. Audiencia esperada: 52085 espectadores\n",
      "Partido ('Athletic Club', 'FC Barcelona') jugado el día 08-01-2023. Audiencia esperada: 51488 espectadores\n",
      "Partido ('Athletic Club', 'Atlético de Madrid') jugado el día 07-05-2023. Audiencia esperada: 51268 espectadores\n",
      "Partido ('Athletic Club', 'Sevilla FC') jugado el día 29-10-2022. Audiencia esperada: 46278 espectadores\n",
      "Partido ('Athletic Club', 'Real Betis Balompié') jugado el día 08-01-2023. Audiencia esperada: 47915 espectadores\n",
      "Partido ('Athletic Club', 'Real Sociedad') jugado el día 14-04-2023. Audiencia esperada: 48828 espectadores\n",
      "Partido ('Athletic Club', 'Villarreal CF') jugado el día 14-04-2023. Audiencia esperada: 59265 espectadores\n",
      "Partido ('Athletic Club', 'Valencia CF') jugado el día 02-04-2023. Audiencia esperada: 51490 espectadores\n",
      "Partido ('Athletic Club', 'CA Osasuna') jugado el día 05-03-2023. Audiencia esperada: 49860 espectadores\n",
      "Partido ('Athletic Club', 'RC Celta de Vigo') jugado el día 21-08-2022. Audiencia esperada: 47540 espectadores\n",
      "Partido ('Athletic Club', 'Rayo Vallecano') jugado el día 29-10-2022. Audiencia esperada: 43348 espectadores\n",
      "Partido ('Athletic Club', 'Elche CF') jugado el día 20-08-2022. Audiencia esperada: 46726 espectadores\n",
      "Partido ('Athletic Club', 'RCD Espanyol') jugado el día 28-04-2023. Audiencia esperada: 50621 espectadores\n",
      "Partido ('Athletic Club', 'Getafe CF') jugado el día 01-04-2023. Audiencia esperada: 48514 espectadores\n",
      "Partido ('Athletic Club', 'RCD Mallorca') jugado el día 14-04-2023. Audiencia esperada: 47302 espectadores\n",
      "Partido ('Athletic Club', 'Cádiz CF') jugado el día 12-03-2023. Audiencia esperada: 45160 espectadores\n",
      "Partido ('Athletic Club', 'UD Almería') jugado el día 26-08-2022. Audiencia esperada: 50358 espectadores\n",
      "Partido ('Athletic Club', 'Real Valladolid CF') jugado el día 04-09-2022. Audiencia esperada: 49393 espectadores\n",
      "Partido ('Athletic Club', 'Girona FC') jugado el día 02-04-2023. Audiencia esperada: 47595 espectadores\n",
      "Partido ('Valencia CF', 'Real Madrid CF') jugado el día 10-02-2023. Audiencia esperada: 47747 espectadores\n",
      "Partido ('Valencia CF', 'FC Barcelona') jugado el día 02-04-2023. Audiencia esperada: 44037 espectadores\n",
      "Partido ('Valencia CF', 'Atlético de Madrid') jugado el día 08-01-2023. Audiencia esperada: 40758 espectadores\n",
      "Partido ('Valencia CF', 'Sevilla FC') jugado el día 13-05-2023. Audiencia esperada: 45752 espectadores\n",
      "Partido ('Valencia CF', 'Real Betis Balompié') jugado el día 25-09-2022. Audiencia esperada: 39285 espectadores\n",
      "Partido ('Valencia CF', 'Real Sociedad') jugado el día 23-04-2023. Audiencia esperada: 44374 espectadores\n",
      "Partido ('Valencia CF', 'Villarreal CF') jugado el día 07-05-2023. Audiencia esperada: 44427 espectadores\n",
      "Partido ('Valencia CF', 'Athletic Club') jugado el día 04-02-2023. Audiencia esperada: 38702 espectadores\n",
      "Partido ('Valencia CF', 'CA Osasuna') jugado el día 09-10-2022. Audiencia esperada: 41288 espectadores\n",
      "Partido ('Valencia CF', 'RC Celta de Vigo') jugado el día 28-04-2023. Audiencia esperada: 43592 espectadores\n",
      "Partido ('Valencia CF', 'Rayo Vallecano') jugado el día 30-10-2022. Audiencia esperada: 39717 espectadores\n",
      "Partido ('Valencia CF', 'Elche CF') jugado el día 02-04-2023. Audiencia esperada: 42333 espectadores\n",
      "Partido ('Valencia CF', 'RCD Espanyol') jugado el día 30-04-2023. Audiencia esperada: 38824 espectadores\n",
      "Partido ('Valencia CF', 'Getafe CF') jugado el día 30-04-2023. Audiencia esperada: 40554 espectadores\n",
      "Partido ('Valencia CF', 'RCD Mallorca') jugado el día 25-02-2023. Audiencia esperada: 40079 espectadores\n",
      "Partido ('Valencia CF', 'Cádiz CF') jugado el día 19-02-2023. Audiencia esperada: 40490 espectadores\n",
      "Partido ('Valencia CF', 'UD Almería') jugado el día 05-02-2023. Audiencia esperada: 38190 espectadores\n",
      "Partido ('Valencia CF', 'Real Valladolid CF') jugado el día 07-01-2023. Audiencia esperada: 34116 espectadores\n",
      "Partido ('Valencia CF', 'Girona FC') jugado el día 21-04-2023. Audiencia esperada: 42154 espectadores\n",
      "Partido ('CA Osasuna', 'Real Madrid CF') jugado el día 11-03-2023. Audiencia esperada: 22566 espectadores\n",
      "Partido ('CA Osasuna', 'FC Barcelona') jugado el día 05-11-2022. Audiencia esperada: 22833 espectadores\n",
      "Partido ('CA Osasuna', 'Atlético de Madrid') jugado el día 18-02-2023. Audiencia esperada: 21100 espectadores\n",
      "Partido ('CA Osasuna', 'Sevilla FC') jugado el día 04-11-2022. Audiencia esperada: 23958 espectadores\n",
      "Partido ('CA Osasuna', 'Real Betis Balompié') jugado el día 03-03-2023. Audiencia esperada: 23006 espectadores\n",
      "Partido ('CA Osasuna', 'Real Sociedad') jugado el día 26-03-2023. Audiencia esperada: 19916 espectadores\n",
      "Partido ('CA Osasuna', 'Villarreal CF') jugado el día 13-05-2023. Audiencia esperada: 24690 espectadores\n",
      "Partido ('CA Osasuna', 'Athletic Club') jugado el día 12-05-2023. Audiencia esperada: 20722 espectadores\n",
      "Partido ('CA Osasuna', 'Valencia CF') jugado el día 13-05-2023. Audiencia esperada: 20750 espectadores\n",
      "Partido ('CA Osasuna', 'RC Celta de Vigo') jugado el día 06-11-2022. Audiencia esperada: 19549 espectadores\n",
      "Partido ('CA Osasuna', 'Rayo Vallecano') jugado el día 31-03-2023. Audiencia esperada: 17550 espectadores\n",
      "Partido ('CA Osasuna', 'Elche CF') jugado el día 26-05-2023. Audiencia esperada: 20590 espectadores\n",
      "Partido ('CA Osasuna', 'RCD Espanyol') jugado el día 05-11-2022. Audiencia esperada: 20090 espectadores\n",
      "Partido ('CA Osasuna', 'Getafe CF') jugado el día 11-02-2023. Audiencia esperada: 18307 espectadores\n",
      "Partido ('CA Osasuna', 'RCD Mallorca') jugado el día 28-01-2023. Audiencia esperada: 18321 espectadores\n",
      "Partido ('CA Osasuna', 'Cádiz CF') jugado el día 24-02-2023. Audiencia esperada: 19467 espectadores\n",
      "Partido ('CA Osasuna', 'UD Almería') jugado el día 05-05-2023. Audiencia esperada: 22735 espectadores\n",
      "Partido ('CA Osasuna', 'Real Valladolid CF') jugado el día 06-01-2023. Audiencia esperada: 20526 espectadores\n",
      "Partido ('CA Osasuna', 'Girona FC') jugado el día 03-02-2023. Audiencia esperada: 21428 espectadores\n",
      "Partido ('RC Celta de Vigo', 'Real Madrid CF') jugado el día 23-09-2022. Audiencia esperada: 26584 espectadores\n",
      "Partido ('RC Celta de Vigo', 'FC Barcelona') jugado el día 18-02-2023. Audiencia esperada: 24935 espectadores\n",
      "Partido ('RC Celta de Vigo', 'Atlético de Madrid') jugado el día 03-09-2022. Audiencia esperada: 23763 espectadores\n",
      "Partido ('RC Celta de Vigo', 'Sevilla FC') jugado el día 18-02-2023. Audiencia esperada: 24580 espectadores\n",
      "Partido ('RC Celta de Vigo', 'Real Betis Balompié') jugado el día 22-01-2023. Audiencia esperada: 22942 espectadores\n",
      "Partido ('RC Celta de Vigo', 'Real Sociedad') jugado el día 28-10-2022. Audiencia esperada: 23712 espectadores\n",
      "Partido ('RC Celta de Vigo', 'Villarreal CF') jugado el día 16-04-2023. Audiencia esperada: 25148 espectadores\n",
      "Partido ('RC Celta de Vigo', 'Athletic Club') jugado el día 15-01-2023. Audiencia esperada: 25445 espectadores\n",
      "Partido ('RC Celta de Vigo', 'Valencia CF') jugado el día 21-08-2022. Audiencia esperada: 26216 espectadores\n",
      "Partido ('RC Celta de Vigo', 'CA Osasuna') jugado el día 14-01-2023. Audiencia esperada: 23923 espectadores\n",
      "Partido ('RC Celta de Vigo', 'Rayo Vallecano') jugado el día 24-09-2022. Audiencia esperada: 24943 espectadores\n",
      "Partido ('RC Celta de Vigo', 'Elche CF') jugado el día 11-02-2023. Audiencia esperada: 25406 espectadores\n",
      "Partido ('RC Celta de Vigo', 'RCD Espanyol') jugado el día 30-09-2022. Audiencia esperada: 24940 espectadores\n",
      "Partido ('RC Celta de Vigo', 'Getafe CF') jugado el día 09-09-2022. Audiencia esperada: 23030 espectadores\n",
      "Partido ('RC Celta de Vigo', 'RCD Mallorca') jugado el día 21-10-2022. Audiencia esperada: 20592 espectadores\n",
      "Partido ('RC Celta de Vigo', 'Cádiz CF') jugado el día 02-10-2022. Audiencia esperada: 21497 espectadores\n",
      "Partido ('RC Celta de Vigo', 'UD Almería') jugado el día 26-02-2023. Audiencia esperada: 24167 espectadores\n",
      "Partido ('RC Celta de Vigo', 'Real Valladolid CF') jugado el día 16-09-2022. Audiencia esperada: 20483 espectadores\n",
      "Partido ('RC Celta de Vigo', 'Girona FC') jugado el día 10-02-2023. Audiencia esperada: 19630 espectadores\n",
      "Partido ('Rayo Vallecano', 'Real Madrid CF') jugado el día 12-02-2023. Audiencia esperada: 18302 espectadores\n",
      "Partido ('Rayo Vallecano', 'FC Barcelona') jugado el día 08-01-2023. Audiencia esperada: 15701 espectadores\n",
      "Partido ('Rayo Vallecano', 'Atlético de Madrid') jugado el día 28-08-2022. Audiencia esperada: 15522 espectadores\n",
      "Partido ('Rayo Vallecano', 'Sevilla FC') jugado el día 19-02-2023. Audiencia esperada: 14466 espectadores\n",
      "Partido ('Rayo Vallecano', 'Real Betis Balompié') jugado el día 31-03-2023. Audiencia esperada: 14597 espectadores\n",
      "Partido ('Rayo Vallecano', 'Real Sociedad') jugado el día 01-10-2022. Audiencia esperada: 14542 espectadores\n",
      "Partido ('Rayo Vallecano', 'Villarreal CF') jugado el día 21-05-2023. Audiencia esperada: 17555 espectadores\n",
      "Partido ('Rayo Vallecano', 'Athletic Club') jugado el día 25-01-2023. Audiencia esperada: 14362 espectadores\n",
      "Partido ('Rayo Vallecano', 'Valencia CF') jugado el día 26-03-2023. Audiencia esperada: 15531 espectadores\n",
      "Partido ('Rayo Vallecano', 'CA Osasuna') jugado el día 20-08-2022. Audiencia esperada: 15114 espectadores\n",
      "Partido ('Rayo Vallecano', 'RC Celta de Vigo') jugado el día 22-10-2022. Audiencia esperada: 15211 espectadores\n",
      "Partido ('Rayo Vallecano', 'Elche CF') jugado el día 15-04-2023. Audiencia esperada: 15665 espectadores\n",
      "Partido ('Rayo Vallecano', 'RCD Espanyol') jugado el día 24-03-2023. Audiencia esperada: 12976 espectadores\n",
      "Partido ('Rayo Vallecano', 'Getafe CF') jugado el día 07-10-2022. Audiencia esperada: 15160 espectadores\n",
      "Partido ('Rayo Vallecano', 'RCD Mallorca') jugado el día 04-04-2023. Audiencia esperada: 11727 espectadores\n",
      "Partido ('Rayo Vallecano', 'Cádiz CF') jugado el día 29-10-2022. Audiencia esperada: 18592 espectadores\n",
      "Partido ('Rayo Vallecano', 'UD Almería') jugado el día 15-10-2022. Audiencia esperada: 14621 espectadores\n",
      "Partido ('Rayo Vallecano', 'Real Valladolid CF') jugado el día 20-08-2022. Audiencia esperada: 14611 espectadores\n",
      "Partido ('Rayo Vallecano', 'Girona FC') jugado el día 26-02-2023. Audiencia esperada: 14033 espectadores\n",
      "Partido ('Elche CF', 'Real Madrid CF') jugado el día 20-01-2023. Audiencia esperada: 29571 espectadores\n",
      "Partido ('Elche CF', 'FC Barcelona') jugado el día 04-06-2023. Audiencia esperada: 30999 espectadores\n",
      "Partido ('Elche CF', 'Atlético de Madrid') jugado el día 05-02-2023. Audiencia esperada: 30812 espectadores\n",
      "Partido ('Elche CF', 'Sevilla FC') jugado el día 21-10-2022. Audiencia esperada: 33874 espectadores\n",
      "Partido ('Elche CF', 'Real Betis Balompié') jugado el día 29-01-2023. Audiencia esperada: 30466 espectadores\n",
      "Partido ('Elche CF', 'Real Sociedad') jugado el día 28-05-2023. Audiencia esperada: 31481 espectadores\n",
      "Partido ('Elche CF', 'Villarreal CF') jugado el día 04-11-2022. Audiencia esperada: 27418 espectadores\n",
      "Partido ('Elche CF', 'Athletic Club') jugado el día 02-06-2023. Audiencia esperada: 32655 espectadores\n",
      "Partido ('Elche CF', 'Valencia CF') jugado el día 27-08-2022. Audiencia esperada: 29454 espectadores\n",
      "Partido ('Elche CF', 'CA Osasuna') jugado el día 20-05-2023. Audiencia esperada: 26669 espectadores\n",
      "Partido ('Elche CF', 'RC Celta de Vigo') jugado el día 29-04-2023. Audiencia esperada: 28278 espectadores\n",
      "Partido ('Elche CF', 'Rayo Vallecano') jugado el día 11-03-2023. Audiencia esperada: 27174 espectadores\n",
      "Partido ('Elche CF', 'RCD Espanyol') jugado el día 09-10-2022. Audiencia esperada: 30512 espectadores\n",
      "Partido ('Elche CF', 'Getafe CF') jugado el día 31-03-2023. Audiencia esperada: 25872 espectadores\n",
      "Partido ('Elche CF', 'RCD Mallorca') jugado el día 12-03-2023. Audiencia esperada: 28710 espectadores\n",
      "Partido ('Elche CF', 'Cádiz CF') jugado el día 02-06-2023. Audiencia esperada: 28650 espectadores\n",
      "Partido ('Elche CF', 'UD Almería') jugado el día 03-06-2023. Audiencia esperada: 28886 espectadores\n",
      "Partido ('Elche CF', 'Real Valladolid CF') jugado el día 19-08-2022. Audiencia esperada: 27858 espectadores\n",
      "Partido ('Elche CF', 'Girona FC') jugado el día 28-08-2022. Audiencia esperada: 27529 espectadores\n",
      "Partido ('RCD Espanyol', 'Real Madrid CF') jugado el día 13-01-2023. Audiencia esperada: 34489 espectadores\n",
      "Partido ('RCD Espanyol', 'FC Barcelona') jugado el día 02-05-2023. Audiencia esperada: 34836 espectadores\n",
      "Partido ('RCD Espanyol', 'Atlético de Madrid') jugado el día 22-01-2023. Audiencia esperada: 36315 espectadores\n",
      "Partido ('RCD Espanyol', 'Sevilla FC') jugado el día 05-05-2023. Audiencia esperada: 35667 espectadores\n",
      "Partido ('RCD Espanyol', 'Real Betis Balompié') jugado el día 14-05-2023. Audiencia esperada: 33086 espectadores\n",
      "Partido ('RCD Espanyol', 'Real Sociedad') jugado el día 27-01-2023. Audiencia esperada: 31675 espectadores\n",
      "Partido ('RCD Espanyol', 'Villarreal CF') jugado el día 19-05-2023. Audiencia esperada: 33164 espectadores\n"
     ]
    },
    {
     "name": "stdout",
     "output_type": "stream",
     "text": [
      "Partido ('RCD Espanyol', 'Athletic Club') jugado el día 06-05-2023. Audiencia esperada: 35366 espectadores\n",
      "Partido ('RCD Espanyol', 'Valencia CF') jugado el día 29-01-2023. Audiencia esperada: 34634 espectadores\n",
      "Partido ('RCD Espanyol', 'CA Osasuna') jugado el día 20-05-2023. Audiencia esperada: 35433 espectadores\n",
      "Partido ('RCD Espanyol', 'RC Celta de Vigo') jugado el día 28-04-2023. Audiencia esperada: 34492 espectadores\n",
      "Partido ('RCD Espanyol', 'Rayo Vallecano') jugado el día 26-03-2023. Audiencia esperada: 29745 espectadores\n",
      "Partido ('RCD Espanyol', 'Elche CF') jugado el día 13-01-2023. Audiencia esperada: 34805 espectadores\n",
      "Partido ('RCD Espanyol', 'Getafe CF') jugado el día 20-01-2023. Audiencia esperada: 30038 espectadores\n",
      "Partido ('RCD Espanyol', 'RCD Mallorca') jugado el día 04-03-2023. Audiencia esperada: 31714 espectadores\n",
      "Partido ('RCD Espanyol', 'Cádiz CF') jugado el día 28-08-2022. Audiencia esperada: 29189 espectadores\n",
      "Partido ('RCD Espanyol', 'UD Almería') jugado el día 12-05-2023. Audiencia esperada: 32138 espectadores\n",
      "Partido ('RCD Espanyol', 'Real Valladolid CF') jugado el día 28-01-2023. Audiencia esperada: 30808 espectadores\n",
      "Partido ('RCD Espanyol', 'Girona FC') jugado el día 26-08-2022. Audiencia esperada: 29384 espectadores\n",
      "Partido ('Getafe CF', 'Real Madrid CF') jugado el día 10-09-2022. Audiencia esperada: 16933 espectadores\n",
      "Partido ('Getafe CF', 'FC Barcelona') jugado el día 28-01-2023. Audiencia esperada: 15606 espectadores\n",
      "Partido ('Getafe CF', 'Atlético de Madrid') jugado el día 24-02-2023. Audiencia esperada: 16263 espectadores\n",
      "Partido ('Getafe CF', 'Sevilla FC') jugado el día 05-02-2023. Audiencia esperada: 16933 espectadores\n",
      "Partido ('Getafe CF', 'Real Betis Balompié') jugado el día 18-03-2023. Audiencia esperada: 16270 espectadores\n",
      "Partido ('Getafe CF', 'Real Sociedad') jugado el día 16-09-2022. Audiencia esperada: 14383 espectadores\n",
      "Partido ('Getafe CF', 'Villarreal CF') jugado el día 27-05-2023. Audiencia esperada: 16541 espectadores\n",
      "Partido ('Getafe CF', 'Athletic Club') jugado el día 10-02-2023. Audiencia esperada: 14409 espectadores\n",
      "Partido ('Getafe CF', 'Valencia CF') jugado el día 18-03-2023. Audiencia esperada: 16658 espectadores\n",
      "Partido ('Getafe CF', 'CA Osasuna') jugado el día 31-03-2023. Audiencia esperada: 14871 espectadores\n",
      "Partido ('Getafe CF', 'RC Celta de Vigo') jugado el día 08-11-2022. Audiencia esperada: 13794 espectadores\n",
      "Partido ('Getafe CF', 'Rayo Vallecano') jugado el día 21-10-2022. Audiencia esperada: 15292 espectadores\n",
      "Partido ('Getafe CF', 'Elche CF') jugado el día 26-08-2022. Audiencia esperada: 15269 espectadores\n",
      "Partido ('Getafe CF', 'RCD Espanyol') jugado el día 25-03-2023. Audiencia esperada: 15895 espectadores\n",
      "Partido ('Getafe CF', 'RCD Mallorca') jugado el día 04-04-2023. Audiencia esperada: 14298 espectadores\n",
      "Partido ('Getafe CF', 'Cádiz CF') jugado el día 01-10-2022. Audiencia esperada: 15794 espectadores\n",
      "Partido ('Getafe CF', 'UD Almería') jugado el día 08-10-2022. Audiencia esperada: 14023 espectadores\n",
      "Partido ('Getafe CF', 'Real Valladolid CF') jugado el día 10-09-2022. Audiencia esperada: 15218 espectadores\n",
      "Partido ('Getafe CF', 'Girona FC') jugado el día 03-02-2023. Audiencia esperada: 15097 espectadores\n",
      "Partido ('RCD Mallorca', 'Real Madrid CF') jugado el día 27-05-2023. Audiencia esperada: 18347 espectadores\n",
      "Partido ('RCD Mallorca', 'FC Barcelona') jugado el día 06-11-2022. Audiencia esperada: 18016 espectadores\n",
      "Partido ('RCD Mallorca', 'Atlético de Madrid') jugado el día 02-09-2022. Audiencia esperada: 17267 espectadores\n",
      "Partido ('RCD Mallorca', 'Sevilla FC') jugado el día 18-02-2023. Audiencia esperada: 16467 espectadores\n",
      "Partido ('RCD Mallorca', 'Real Betis Balompié') jugado el día 05-03-2023. Audiencia esperada: 15570 espectadores\n",
      "Partido ('RCD Mallorca', 'Real Sociedad') jugado el día 24-03-2023. Audiencia esperada: 15656 espectadores\n",
      "Partido ('RCD Mallorca', 'Villarreal CF') jugado el día 12-05-2023. Audiencia esperada: 17655 espectadores\n",
      "Partido ('RCD Mallorca', 'Athletic Club') jugado el día 21-05-2023. Audiencia esperada: 14937 espectadores\n",
      "Partido ('RCD Mallorca', 'Valencia CF') jugado el día 19-03-2023. Audiencia esperada: 16738 espectadores\n",
      "Partido ('RCD Mallorca', 'CA Osasuna') jugado el día 30-04-2023. Audiencia esperada: 19208 espectadores\n",
      "Partido ('RCD Mallorca', 'RC Celta de Vigo') jugado el día 09-11-2022. Audiencia esperada: 14415 espectadores\n",
      "Partido ('RCD Mallorca', 'Rayo Vallecano') jugado el día 16-04-2023. Audiencia esperada: 16403 espectadores\n",
      "Partido ('RCD Mallorca', 'Elche CF') jugado el día 23-04-2023. Audiencia esperada: 17147 espectadores\n",
      "Partido ('RCD Mallorca', 'RCD Espanyol') jugado el día 21-04-2023. Audiencia esperada: 16703 espectadores\n",
      "Partido ('RCD Mallorca', 'Getafe CF') jugado el día 15-10-2022. Audiencia esperada: 13097 espectadores\n",
      "Partido ('RCD Mallorca', 'Cádiz CF') jugado el día 10-02-2023. Audiencia esperada: 14462 espectadores\n",
      "Partido ('RCD Mallorca', 'UD Almería') jugado el día 21-03-2023. Audiencia esperada: 13970 espectadores\n",
      "Partido ('RCD Mallorca', 'Real Valladolid CF') jugado el día 23-09-2022. Audiencia esperada: 16773 espectadores\n",
      "Partido ('RCD Mallorca', 'Girona FC') jugado el día 21-04-2023. Audiencia esperada: 17027 espectadores\n",
      "Partido ('Cádiz CF', 'Real Madrid CF') jugado el día 17-02-2023. Audiencia esperada: 21065 espectadores\n",
      "Partido ('Cádiz CF', 'FC Barcelona') jugado el día 14-10-2022. Audiencia esperada: 18478 espectadores\n",
      "Partido ('Cádiz CF', 'Atlético de Madrid') jugado el día 19-05-2023. Audiencia esperada: 19539 espectadores\n",
      "Partido ('Cádiz CF', 'Sevilla FC') jugado el día 23-10-2022. Audiencia esperada: 18177 espectadores\n",
      "Partido ('Cádiz CF', 'Real Betis Balompié') jugado el día 19-05-2023. Audiencia esperada: 17668 espectadores\n",
      "Partido ('Cádiz CF', 'Real Sociedad') jugado el día 11-02-2023. Audiencia esperada: 19627 espectadores\n",
      "Partido ('Cádiz CF', 'Villarreal CF') jugado el día 14-05-2023. Audiencia esperada: 19764 espectadores\n",
      "Partido ('Cádiz CF', 'Athletic Club') jugado el día 04-01-2023. Audiencia esperada: 19403 espectadores\n",
      "Partido ('Cádiz CF', 'Valencia CF') jugado el día 07-10-2022. Audiencia esperada: 18265 espectadores\n",
      "Partido ('Cádiz CF', 'CA Osasuna') jugado el día 06-01-2023. Audiencia esperada: 18214 espectadores\n",
      "Partido ('Cádiz CF', 'RC Celta de Vigo') jugado el día 31-01-2023. Audiencia esperada: 20144 espectadores\n",
      "Partido ('Cádiz CF', 'Rayo Vallecano') jugado el día 16-10-2022. Audiencia esperada: 18140 espectadores\n",
      "Partido ('Cádiz CF', 'Elche CF') jugado el día 12-02-2023. Audiencia esperada: 21181 espectadores\n",
      "Partido ('Cádiz CF', 'RCD Espanyol') jugado el día 02-10-2022. Audiencia esperada: 18868 espectadores\n",
      "Partido ('Cádiz CF', 'Getafe CF') jugado el día 17-02-2023. Audiencia esperada: 18783 espectadores\n",
      "Partido ('Cádiz CF', 'RCD Mallorca') jugado el día 22-01-2023. Audiencia esperada: 22622 espectadores\n",
      "Partido ('Cádiz CF', 'UD Almería') jugado el día 20-05-2023. Audiencia esperada: 20178 espectadores\n",
      "Partido ('Cádiz CF', 'Real Valladolid CF') jugado el día 07-01-2023. Audiencia esperada: 16704 espectadores\n",
      "Partido ('Cádiz CF', 'Girona FC') jugado el día 28-05-2023. Audiencia esperada: 18821 espectadores\n",
      "Partido ('UD Almería', 'Real Madrid CF') jugado el día 15-01-2023. Audiencia esperada: 11757 espectadores\n",
      "Partido ('UD Almería', 'FC Barcelona') jugado el día 06-01-2023. Audiencia esperada: 12318 espectadores\n",
      "Partido ('UD Almería', 'Atlético de Madrid') jugado el día 29-04-2023. Audiencia esperada: 15826 espectadores\n",
      "Partido ('UD Almería', 'Sevilla FC') jugado el día 02-05-2023. Audiencia esperada: 12956 espectadores\n",
      "Partido ('UD Almería', 'Real Betis Balompié') jugado el día 23-09-2022. Audiencia esperada: 12091 espectadores\n",
      "Partido ('UD Almería', 'Real Sociedad') jugado el día 01-03-2023. Audiencia esperada: 12805 espectadores\n",
      "Partido ('UD Almería', 'Villarreal CF') jugado el día 06-05-2023. Audiencia esperada: 15410 espectadores\n",
      "Partido ('UD Almería', 'Athletic Club') jugado el día 03-01-2023. Audiencia esperada: 12225 espectadores\n",
      "Partido ('UD Almería', 'Valencia CF') jugado el día 23-04-2023. Audiencia esperada: 13514 espectadores\n",
      "Partido ('UD Almería', 'CA Osasuna') jugado el día 03-03-2023. Audiencia esperada: 11655 espectadores\n",
      "Partido ('UD Almería', 'RC Celta de Vigo') jugado el día 14-10-2022. Audiencia esperada: 12449 espectadores\n",
      "Partido ('UD Almería', 'Rayo Vallecano') jugado el día 02-05-2023. Audiencia esperada: 11661 espectadores\n",
      "Partido ('UD Almería', 'Elche CF') jugado el día 04-09-2022. Audiencia esperada: 12591 espectadores\n",
      "Partido ('UD Almería', 'RCD Espanyol') jugado el día 04-04-2023. Audiencia esperada: 11938 espectadores\n",
      "Partido ('UD Almería', 'Getafe CF') jugado el día 28-10-2022. Audiencia esperada: 10923 espectadores\n",
      "Partido ('UD Almería', 'RCD Mallorca') jugado el día 01-10-2022. Audiencia esperada: 11244 espectadores\n",
      "Partido ('UD Almería', 'Cádiz CF') jugado el día 14-10-2022. Audiencia esperada: 14191 espectadores\n",
      "Partido ('UD Almería', 'Real Valladolid CF') jugado el día 17-09-2022. Audiencia esperada: 11554 espectadores\n",
      "Partido ('UD Almería', 'Girona FC') jugado el día 17-01-2023. Audiencia esperada: 10439 espectadores\n",
      "Partido ('Real Valladolid CF', 'Real Madrid CF') jugado el día 26-03-2023. Audiencia esperada: 24945 espectadores\n",
      "Partido ('Real Valladolid CF', 'FC Barcelona') jugado el día 15-01-2023. Audiencia esperada: 23106 espectadores\n",
      "Partido ('Real Valladolid CF', 'Atlético de Madrid') jugado el día 03-02-2023. Audiencia esperada: 22550 espectadores\n",
      "Partido ('Real Valladolid CF', 'Sevilla FC') jugado el día 16-10-2022. Audiencia esperada: 23696 espectadores\n",
      "Partido ('Real Valladolid CF', 'Real Betis Balompié') jugado el día 27-05-2023. Audiencia esperada: 22808 espectadores\n",
      "Partido ('Real Valladolid CF', 'Real Sociedad') jugado el día 26-05-2023. Audiencia esperada: 25578 espectadores\n",
      "Partido ('Real Valladolid CF', 'Villarreal CF') jugado el día 06-05-2023. Audiencia esperada: 26934 espectadores\n",
      "Partido ('Real Valladolid CF', 'Athletic Club') jugado el día 28-05-2023. Audiencia esperada: 24335 espectadores\n",
      "Partido ('Real Valladolid CF', 'Valencia CF') jugado el día 22-04-2023. Audiencia esperada: 25501 espectadores\n",
      "Partido ('Real Valladolid CF', 'CA Osasuna') jugado el día 21-05-2023. Audiencia esperada: 26851 espectadores\n",
      "Partido ('Real Valladolid CF', 'RC Celta de Vigo') jugado el día 08-11-2022. Audiencia esperada: 20705 espectadores\n",
      "Partido ('Real Valladolid CF', 'Rayo Vallecano') jugado el día 23-04-2023. Audiencia esperada: 25637 espectadores\n",
      "Partido ('Real Valladolid CF', 'Elche CF') jugado el día 05-03-2023. Audiencia esperada: 25031 espectadores\n",
      "Partido ('Real Valladolid CF', 'RCD Espanyol') jugado el día 25-09-2022. Audiencia esperada: 21188 espectadores\n",
      "Partido ('Real Valladolid CF', 'Getafe CF') jugado el día 20-08-2022. Audiencia esperada: 21683 espectadores\n",
      "Partido ('Real Valladolid CF', 'RCD Mallorca') jugado el día 16-04-2023. Audiencia esperada: 23339 espectadores\n",
      "Partido ('Real Valladolid CF', 'Cádiz CF') jugado el día 29-04-2023. Audiencia esperada: 21217 espectadores\n",
      "Partido ('Real Valladolid CF', 'UD Almería') jugado el día 13-05-2023. Audiencia esperada: 23006 espectadores\n",
      "Partido ('Real Valladolid CF', 'Girona FC') jugado el día 09-11-2022. Audiencia esperada: 24143 espectadores\n",
      "Partido ('Girona FC', 'Real Madrid CF') jugado el día 19-02-2023. Audiencia esperada: 10686 espectadores\n",
      "Partido ('Girona FC', 'FC Barcelona') jugado el día 04-06-2023. Audiencia esperada: 11296 espectadores\n",
      "Partido ('Girona FC', 'Atlético de Madrid') jugado el día 24-02-2023. Audiencia esperada: 9595 espectadores\n",
      "Partido ('Girona FC', 'Sevilla FC') jugado el día 13-01-2023. Audiencia esperada: 10424 espectadores\n",
      "Partido ('Girona FC', 'Real Betis Balompié') jugado el día 09-09-2022. Audiencia esperada: 8054 espectadores\n",
      "Partido ('Girona FC', 'Real Sociedad') jugado el día 01-03-2023. Audiencia esperada: 9700 espectadores\n",
      "Partido ('Girona FC', 'Villarreal CF') jugado el día 27-05-2023. Audiencia esperada: 10013 espectadores\n",
      "Partido ('Girona FC', 'Athletic Club') jugado el día 04-06-2023. Audiencia esperada: 11021 espectadores\n",
      "Partido ('Girona FC', 'Valencia CF') jugado el día 01-03-2023. Audiencia esperada: 10180 espectadores\n",
      "Partido ('Girona FC', 'CA Osasuna') jugado el día 21-08-2022. Audiencia esperada: 10736 espectadores\n",
      "Partido ('Girona FC', 'RC Celta de Vigo') jugado el día 10-01-2023. Audiencia esperada: 10666 espectadores\n",
      "Partido ('Girona FC', 'Rayo Vallecano') jugado el día 04-03-2023. Audiencia esperada: 9191 espectadores\n",
      "Partido ('Girona FC', 'Elche CF') jugado el día 19-08-2022. Audiencia esperada: 10334 espectadores\n",
      "Partido ('Girona FC', 'RCD Espanyol') jugado el día 19-10-2022. Audiencia esperada: 8889 espectadores\n",
      "Partido ('Girona FC', 'Getafe CF') jugado el día 09-11-2022. Audiencia esperada: 8527 espectadores\n",
      "Partido ('Girona FC', 'RCD Mallorca') jugado el día 04-04-2023. Audiencia esperada: 9389 espectadores\n",
      "Partido ('Girona FC', 'Cádiz CF') jugado el día 30-10-2022. Audiencia esperada: 11090 espectadores\n",
      "Partido ('Girona FC', 'UD Almería') jugado el día 19-05-2023. Audiencia esperada: 10654 espectadores\n",
      "Partido ('Girona FC', 'Real Valladolid CF') jugado el día 15-01-2023. Audiencia esperada: 8966 espectadores\n",
      "\n",
      "Partidos totales jugados: 380\n"
     ]
    }
   ],
   "source": [
    "status = solver.Solve()\n",
    "if status == pywraplp.Solver.OPTIMAL or status == pywraplp.Solver.FEASIBLE:\n",
    "    print(f'Audiencia total = {int(solver.Objective().Value())} espectadores\\n')\n",
    "    print(f'Audiencia media = {int(solver.Objective().Value()/380)} espectadores\\n')\n",
    "    cont = 0\n",
    "    for i in partidos:\n",
    "        for j in lista_dias:\n",
    "            # Test if x[i,j] is 1 (with tolerance for floating point arithmetic).\n",
    "            if x[i, j].solution_value() > 0.5:\n",
    "                cont+=1\n",
    "                print(f'Partido {i} jugado el día {j}.' +\n",
    "                      f' Audiencia esperada: {int(predicciones[(i,j)])} espectadores')\n",
    "                \n",
    "    print(f'\\nPartidos totales jugados: {cont}')\n",
    "    \n",
    "else:\n",
    "    print('Sin solución.')"
   ]
  },
  {
   "cell_type": "markdown",
   "metadata": {},
   "source": [
    "### Comprobación de restricciones"
   ]
  },
  {
   "cell_type": "markdown",
   "metadata": {},
   "source": [
    "\"results\" es una matriz en el que las filas son los partidos y las columnas los día. results[i,j] = 1 si se juega el partido i el día j. Como es una matriz no se puede indexar con texto, por lo que \"i\" y \"j\" son el índice que corresponde a ese día y a es partido. Por ejemplo, el i = 0 corresponde al partido ('Real Madrid CF', 'FC Barcelona'). Si tienes el nombre del partido o el día y lo quieres pasar a índice puedes utilizar \"partido_a_ind\" o \"dia_a_ind\"."
   ]
  },
  {
   "cell_type": "code",
   "execution_count": 12,
   "metadata": {},
   "outputs": [],
   "source": [
    "import pandas as pd\n",
    "import numpy as np\n",
    "\n",
    "dia_a_ind = {dia : i for i, dia in enumerate(lista_dias)}\n",
    "partido_a_ind = {p : i for i, p in enumerate(partidos)}\n",
    "results = np.zeros((len(partidos), len(lista_dias)))\n",
    "\n",
    "for k,v in x.items():\n",
    "    i, j = k\n",
    "    i = partido_a_ind[i]\n",
    "    j = dia_a_ind[j]\n",
    "    \n",
    "    results[i, j] = int(round(v.solution_value()))"
   ]
  },
  {
   "cell_type": "markdown",
   "metadata": {},
   "source": [
    "<div class=\"alert alert-info\">\n",
    "  <strong>Día lectivo</strong>\n",
    "</div>"
   ]
  },
  {
   "cell_type": "code",
   "execution_count": 13,
   "metadata": {},
   "outputs": [
    {
     "name": "stdout",
     "output_type": "stream",
     "text": [
      "La restricción funciona correctamente\n"
     ]
    }
   ],
   "source": [
    "bien = True\n",
    "for partido, dia_lectivo in dl.items():\n",
    "    i = partido_a_ind[partido]\n",
    "    j = round(dia_lectivo.solution_value())\n",
    "\n",
    "    if results[i, j] < 0.5:\n",
    "        print('La restricción no va bien')\n",
    "        bien = False\n",
    "        break\n",
    "    \n",
    "if bien:\n",
    "    print('La restricción funciona correctamente')"
   ]
  },
  {
   "cell_type": "markdown",
   "metadata": {},
   "source": [
    "<div class=\"alert alert-info\">\n",
    "  <strong>Máximo 4 partidos por día</strong>\n",
    "</div>"
   ]
  },
  {
   "cell_type": "code",
   "execution_count": 20,
   "metadata": {},
   "outputs": [
    {
     "name": "stdout",
     "output_type": "stream",
     "text": [
      "La restricción funciona correctamente\n"
     ]
    }
   ],
   "source": [
    "suma = np.sum(results, axis = 0) \n",
    "if np.all(suma <= 4):\n",
    "    print('La restricción funciona correctamente')\n",
    "else: print('La restricción no va bien')"
   ]
  },
  {
   "cell_type": "markdown",
   "metadata": {},
   "source": [
    "<div class=\"alert alert-info\">\n",
    "  <strong>Máximo 380 partidos (hay que ponerla en el documento) </strong>\n",
    "</div>"
   ]
  },
  {
   "cell_type": "code",
   "execution_count": 16,
   "metadata": {},
   "outputs": [
    {
     "name": "stdout",
     "output_type": "stream",
     "text": [
      "Número total de partidos jugados: 380\n",
      "La restricción funciona correctamente\n"
     ]
    }
   ],
   "source": [
    "cont = 0\n",
    "for i in partidos:\n",
    "    for j in lista_dias:\n",
    "        if x[i, j].solution_value() > 0.5:\n",
    "            cont+=1\n",
    "print(f'Número total de partidos jugados: {cont}')\n",
    "if cont == 380:\n",
    "    print('La restricción funciona correctamente')\n",
    "else: print('La restricción no va bien')"
   ]
  },
  {
   "cell_type": "markdown",
   "metadata": {},
   "source": [
    "<div class=\"alert alert-info\">\n",
    "  <strong>Todos los partidos tienen que jugarse una vez</strong>\n",
    "</div>"
   ]
  },
  {
   "cell_type": "code",
   "execution_count": 19,
   "metadata": {},
   "outputs": [
    {
     "name": "stdout",
     "output_type": "stream",
     "text": [
      "La restricción funciona correctamente\n"
     ]
    }
   ],
   "source": [
    "suma = np.sum(results, axis = 1)\n",
    "if np.all(suma > 0):\n",
    "    print('La restricción funciona correctamente')\n",
    "else: print('La restricción no va bien')"
   ]
  }
 ],
 "metadata": {
  "kernelspec": {
   "display_name": "Python 3",
   "language": "python",
   "name": "python3"
  },
  "language_info": {
   "codemirror_mode": {
    "name": "ipython",
    "version": 3
   },
   "file_extension": ".py",
   "mimetype": "text/x-python",
   "name": "python",
   "nbconvert_exporter": "python",
   "pygments_lexer": "ipython3",
   "version": "3.7.4"
  },
  "vscode": {
   "interpreter": {
    "hash": "d769fb3200fc277f8ee95a9cc724831c284e91c864b33f0c557335d16a82712c"
   }
  }
 },
 "nbformat": 4,
 "nbformat_minor": 2
}
