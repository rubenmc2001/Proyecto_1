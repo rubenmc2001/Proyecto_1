{
 "cells": [
  {
   "cell_type": "markdown",
   "metadata": {
    "id": "C42sToH05ncI"
   },
   "source": [
    "<div align=\"left\">\n",
    "<img src=\"https://licensebuttons.net/l/by-nc-sa/3.0/88x31.png\" align=\"right\">\n",
    "<p align=\"left\"><b>Autor: Víctor Sánchez Anguix</b></p> \n",
    "</div>\n",
    "<img align=\"left\" width=\"30%\" src=\"https://www.inf.upv.es/www/etsinf/wp-content/uploads/2017/02/ETSInf_PRINCIPAL_V-horizontal.png\"/> <img width=\"30%\" src=\"https://www.upv.es/perfiles/pas-pdi/imagenes/marca_UPV_principal_negro150.png\" align=\"right\"/>\n"
   ]
  },
  {
   "cell_type": "markdown",
   "metadata": {
    "id": "wXkQslVrh2mS"
   },
   "source": [
    "# Optimización: Proyecto 2022"
   ]
  },
  {
   "cell_type": "markdown",
   "metadata": {
    "id": "DDD1TcMGhYyB"
   },
   "source": [
    "En este notebook definimos en grandes líneas el primer proyecto académico de la asignatura. El proyecto constituye la aplicación vuestros conocimientos de modelización y e implementación de modelos de optimización a un problema con tintes de realidad y que requiere de un elevado número de variables y restricciones.\n",
    "\n",
    "Primero describiremos el dominio del problema. Es decir, el escenario en el cual nos situamos como analistas. Tras ello, describimos tanto los detalles de la primera entrega, como los de la segunda. Finalmente, dejamos las fechas de entrega de los diferentes entregables para este proyecto.\n",
    "\n",
    "Recordad que para este proyecto podéis trabajar en equipos de hasta 4 estudiantes. De hecho, se recomienda el trabajo en equipo debido a la envergadura del proyecto."
   ]
  },
  {
   "cell_type": "markdown",
   "metadata": {
    "id": "0FgAqrSshUZw"
   },
   "source": [
    "# Dominio del problema"
   ]
  },
  {
   "cell_type": "markdown",
   "metadata": {
    "id": "RpsLlUWP6f0F"
   },
   "source": [
    "En esta sección describiremos en detalle tanto el problema que se resolverá, así como algunas particularidades sobre la organización de la empresa a la que os habéis unido."
   ]
  },
  {
   "cell_type": "markdown",
   "metadata": {
    "id": "wVY3epF36cx1"
   },
   "source": [
    "## Introducción al problema"
   ]
  },
  {
   "cell_type": "markdown",
   "metadata": {
    "id": "uQN4IqKD44OT"
   },
   "source": [
    "Recientemente habéis sido contratados como parte del equipo de inteligencia de negocio de la liga de fútbol profesional, encargada de gestionar y planificar los partidos de fútbol profesional de diferentes categorías. Las misiones principales de esta asociación es la organización de las competenciones de Primera y Segunda división, su control económico, la gestión de los derechos televisivos, y la gestión de la internacionalización de la competición.\n",
    "\n",
    "<center>\n",
    "<img width=\"50%\" src=\"https://upload.wikimedia.org/wikipedia/commons/1/13/LaLiga.svg\"/>\n",
    "</center>\n",
    "\n",
    "La asociación profesional se encuentra esta temporada ante un gran desafío económico y técnico, puesto que la competición tendrá que convivir con el Mundial de Catar a final de año y ha visto como tras el COVID los equipos no han recuperado la afluencia a sus estadios que tenían previamente a la pandemia. Esto último ha tenido una repercusión sobre las arcas de los clubes de fútbol, que han visto como sus recursos económicos se han visto seriamente mermados. Desde hace años, la asociación cuenta con un equipo de analítica que apoya a la directiva y al departamento técnico de la asociación en la toma de decisiones de diferente índole. El equipo es multidisciplinar, y cuenta tanto con especialistas en negocio, integración, desarrollo de software, y análisis de datos.\n",
    "\n",
    "Como parte de vuestro trabajo en el equipo de analítica, se os ha planteado el resto de intentar crear el calendario de partidos de la Primera División de fútbol profesional. Este calendario se creaba por métodos tradicionales y sin atender a ningún criterio en particular. No obstante, ahora se desea emplear la analítica predictiva para intentar aprovechar las herramientas informáticas y analíticas disponibles en el mercado y confeccionar un calendario de competición más acorde a los objetivos de los clubes y de la propia liga. La competición de la Primera División cuenta con $20$ equipos profesionales. Todos estos equipos deben enfrentarse entre sí, actuando tanto como local como de visitante. Esto supone que cada equipo jugará un total de $38$ partidos ($19\\times 2$) a lo largo del calendario liguero.\n",
    "\n",
    "La competición se organiza pues en $38$ jornadas ligueras, cada una con $10$ partidos. Por tanto, la planificación de la competición supone planificar la fecha de $380$ ($38\\times 10$) partidos. Tradicionalmente, al comienzo de la competición simplemente se diseña qué partidos se asignan a cada jornada de liga. Sin embargo, debido a la poca flexibilidad con la que se cuenta este año por la organización del Mundial de Catar, se desea ya de antemano decidir en qué fecha se jugará cada uno de los partidos.\n",
    "\n"
   ]
  },
  {
   "cell_type": "markdown",
   "metadata": {
    "id": "EGyvvo9c7Fi6"
   },
   "source": [
    "Los partidos de la Primera División pueden ser organizados en jornada de fin de semana, que constituye tanto partidos en Viernes, como Sábado y Domingo, así como jornadas entre semana, que incluye partidos en Martes y Miércoles. Las siguientes imágenes muestran con cuadrícula verde los días en los que se puede celebrar una jornada de fin de semana o una jornada entre semana.\n",
    "\n",
    "<center>\n",
    "<img width=\"50%\" src=\"https://gitlab.com/drvicsana/proyecto-calendario-deportivo/-/raw/main/2022.png\"/>\n",
    "<img width=\"50%\" src=\"https://gitlab.com/drvicsana/proyecto-calendario-deportivo/-/raw/main/2023.png\"/>\n",
    "</center>\n",
    "\n",
    "Nótese como en algunas semanas no se puede celebrar jornada entre semana o jornada de fin de semana debido a días festivos nacionales, así como al calendario de la UEFA Champions League y de la Europa League, dos competiciones europeas en las que participan equipos de la Primera División.\n",
    "\n"
   ]
  },
  {
   "cell_type": "markdown",
   "metadata": {
    "id": "sdeYguX3AG3m"
   },
   "source": [
    "## Algunos aspectos presentes para la planificación"
   ]
  },
  {
   "cell_type": "markdown",
   "metadata": {
    "id": "_d_eghjsAVHX"
   },
   "source": [
    "La planificación de calendarios deportivos no es un problema trivial, puesto que se deben atender a factores de diversa índole.\n",
    "\n",
    "Por ejemplo, un grupo de interés muy fuerte en la confección del calendario de Primera División son los grupos televisivos. Y es que, una de las principales misiones de la Liga es precisamente gestionar la venta pública de los derechos televisivos. Debido a que las televisiones son sus clientes, se deben confeccionar calendarios que, a priori, satisfagan las preferencias de las cadenas de televisión. Por lo general, las cadenas de televisión prefieren las jornadas en fin de semana a las jornadas entre semana debido a motivos de audiencia y a que no se compite con programas en prime time con fieles seguidores. Tampoco les gusta que en un mismo día se aglutinen demasiados partidos, pues eso supondría retransmitir simultáneamente diferentes eventos y perder espectadores entre los más forofos de las jornadas ligueras.\n",
    "\n",
    "Otro grupo de interés a la hora de confeccionar los calendarios son los propios equipos de fútbol. Una carga excesiva de partidos seguidos puede acarrear lesiones en los futbolistas y, por tanto, la pérdida temporal de jugadores para los partidos. Los jugadores también agradecen de vez en cuando algunos días de descanso para restablecerse de la intensidad de los partidos. También, para no favorecer o desfavorecer en exceso a algunos equipos, es deseable que no se jueguen demasiados partidos seguidos en casa o como visitante.\n",
    "\n",
    "Otro aspecto que está llevando de cabeza a la Liga es cómo conseguir favorecer la vuelta de los espectadores a los estadios. Además de la desaparición de la propia pandemia, se piensa que quizás pueda ayudar a facilitar que los aficionados acudan a los estadios.\n",
    "\n",
    "En principio, en la tradicional planificación liguera los partidos entre dos equipos han tenido un margen de separación de 19 jornadas. No obstante, la Liga está abierta a modificaciones sobre este esquema siempre que tengan sentido y un razonamiento. Eso sí, la Liga no desea que los dos partidos entre dos equipos estén demasiado juntos entre sí.\n",
    "\n"
   ]
  },
  {
   "cell_type": "markdown",
   "metadata": {
    "id": "kvY_-V_KCEM_"
   },
   "source": [
    "# Datos disponibles"
   ]
  },
  {
   "cell_type": "markdown",
   "metadata": {
    "id": "PJscPag_CJxv"
   },
   "source": [
    "Para la realización de este proyecto se adjuntan una serie de conjuntos de datos que pueden ser interesantes a la hora de planificar el calendario de partidos de La Liga. \n",
    "\n",
    "Los datos se encuentran en formato JSON (se trabajará en la asignatura) y CSV, por ser formatos habituales a la hora de intercambiar información entre diferentes servicios informáticos y programas. Además, JSON es un formato fácilmente legible por un humano. El conjunto de ficheros que describiremos en esta sección los podéis encontrar en [la siguiente dirección](https://gitlab.com/drvicsana/proyecto-calendario-deportivo/). Al final de esta misma sección se procederá a la carga de estos ficheros en la memoria del notebook para que los podáis emplear en el desarrollo del proyecto. También se puede desarrollar este proyecto fuera del notebook, quedando esa decisión a gusto del equipo. Alternativamente, también se proveen de exactamente los mismos conjuntos de datos en formato CSV. Éste es un formato de texto orientado a la representación de tablas y que es legible por software como Excel o Pandas en Python. Siéntete libre de usar cualquier software disponible y que conozcas para hacer una primera exploración de estos datos.\n",
    "\n",
    "Sin más dilaciones, procedemos a describir los datos disponibles:\n",
    "\n",
    "**equipos.json**\n",
    "\n",
    "Este fichero JSON contiene información relativa a los equipos de Primera División. Actualmente se cuenta con la información de los 20 equipos que jugarán la presente temporada. Si abres el fichero con un editor de textos, verás que el formato es el de una lista de diccionarios u objetos, donde cada diccionario representa a uno de los equipos de la Liga. Estos serían los primeros objetos/registros del fichero:\n",
    "\n",
    "```json\n",
    "[\n",
    "    {\n",
    "        \"equipo\": \"Real Madrid CF\",\n",
    "        \"posicion\": 1,\n",
    "        \"valor_mercado\": 770.75,\n",
    "        \"aforo\":81044\n",
    "        \n",
    "    },\n",
    "    {\n",
    "        \"equipo\": \"FC Barcelona\",\n",
    "        \"posicion\": 2,\n",
    "        \"valor_mercado\": 737.1,\n",
    "        \"aforo\":99354\n",
    "    },\n",
    "    {\n",
    "        \"equipo\": \"Atlético de Madrid\",\n",
    "        \"posicion\": 3,\n",
    "        \"valor_mercado\": 737.1,\n",
    "        \"aforo\":68456\n",
    "    },\n",
    "    ...\n",
    "]\n",
    "```\n",
    "\n",
    "En este fichero JSON, encontramos un objeto JSON por cada equipo de la Primera División. Para cada equipo, tenemos información sobre su nombre, la posición en la que quedaron en la pasada temporada, su valor de mercado en millones de euros, y el aforo de su estadio. Por ejemplo, el primer equipo de la base de datos es el Real Madrid CF, que ganó la competición en la pasada campaña, tiene un valor de mercado de 770.75 millones de euros y cuyo estadio tiene capacidad para 81044 espectadores.La siguiente tabla recoge qué significa cada uno de los campos/atributos para los registros de este fichero:\n",
    "\n",
    "|Atributo|Descripción|Dominio|\n",
    "| ---    | ---       | ---   |\n",
    "| *equipo* | Nombre del equipo de fútbol | Cadena |\n",
    "| *posicion* | Posición en la que terminó el anterior campeonato. 18, 19 y 20 indican equipos recién ascendidos | Entero |\n",
    "| *valor_mercado* | Valor de mercado de los jugadores de la plantilla en millones de euros | Real |\n",
    "| *aforo* | Capacidad de espectadores del estadio del equipo | Entero |\n",
    "\n",
    "Por tanto, este fichero contiene toda la información disponible de los equipos de tanto información identificativa como características del usuario.\n",
    "\n",
    "**historico.json**\n",
    "\n",
    "Este fichero JSON contiene información histórica de partidos de La Liga, recogida a lo largo de diferentes años. El fichero consta de una colección de objetos de tipo JSON, cada uno de ellos describiendo un partido diferente. Estos serían los primeros objetos/registros del fichero:\n",
    "\n",
    "```json\n",
    "[\n",
    "    {\n",
    "        \"equipo1\": \"Real Madrid CF\",\n",
    "        \"posicion1\": 1,\n",
    "        \"equipo2\": \"FC Barcelona\",\n",
    "        \"posicion2\": 4,\n",
    "        \"mes\": 8,\n",
    "        \"fin_de_semana\": 1,\n",
    "        \"publico\": 67765\n",
    "    },\n",
    "    {\n",
    "        \"equipo1\": \"Real Madrid CF\",\n",
    "        \"posicion1\": 1,\n",
    "        \"equipo2\": \"FC Barcelona\",\n",
    "        \"posicion2\": 2,\n",
    "        \"mes\": 4,\n",
    "        \"fin_de_semana\": 0,\n",
    "        \"publico\": 56479\n",
    "    },\n",
    "    {\n",
    "        \"equipo1\": \"Real Madrid CF\",\n",
    "        \"posicion1\": 3,\n",
    "        \"equipo2\": \"FC Barcelona\",\n",
    "        \"posicion2\": 5,\n",
    "        \"mes\": 6,\n",
    "        \"fin_de_semana\": 1,\n",
    "        \"publico\": 72441\n",
    "    },\n",
    "    ...\n",
    "]\n",
    "```\n",
    "Por ejemplo, el primer registro describe un partido en el que se enfrentaron el Real Madrid CF y el FC Barcelona, ocupando el Real Madrid la primera posición en ese campeonato, y el FC Barcelona ocupando la cuarta posición. Además, el partido se celebró en una jornada de fin de semana del mes de Agosto y tuvo una asistencia de 67765 espectadores. La siguiente tabla recoge qué significa cada uno de los campos/atributos para los registros de este fichero:\n",
    "\n",
    "|Atributo|Descripción|Dominio|\n",
    "| ---    | ---       | ---   |\n",
    "| *equipo1* | Nombre del equipo local | Cadena |\n",
    "| *posicion1* | Posición que ocupó el equipo local en ese campeonato | Entero |\n",
    "| *equipo2* | Nombre del equipo visitante | Cadena |\n",
    "| *posicion2* | Posición que ocupó el equipo visitante en ese campeonato | Entero |\n",
    "| *mes* | Índice del mes en el que se celebró el partido (1 al 12) | Entero |\n",
    "| *fin_de_semana* | 1 si el partido se celebró en jornada de fin de semana, 0 en caso contrario | Entero |\n",
    "| *publico* | Asistencia de espectadores al partido | Entero |\n",
    "\n",
    "Ahora procederemos al proceso de carga de estos conjuntos de datos en el notebook.\n",
    "\n",
    "\n",
    "\n"
   ]
  },
  {
   "cell_type": "code",
   "execution_count": null,
   "metadata": {
    "id": "84eSS8KlDigN"
   },
   "outputs": [],
   "source": [
    "import requests\n",
    "import json\n",
    "\n",
    "r = requests.get('https://gitlab.com/drvicsana/proyecto-calendario-deportivo/-/raw/main/equipos.json')\n",
    "equipos_db = []\n",
    "for line in r.text.split(\"\\n\"):\n",
    "  equipos_db.append(json.loads(line))\n",
    "\n",
    "r = requests.get('https://gitlab.com/drvicsana/proyecto-calendario-deportivo/-/raw/main/historico.json')\n",
    "historico_db = []\n",
    "for line in r.text.split(\"\\n\"):\n",
    "  historico_db.append(json.loads(line))\n",
    "\n"
   ]
  },
  {
   "cell_type": "markdown",
   "metadata": {
    "id": "PZvB3avzEM7Q"
   },
   "source": [
    "Una vez cargados los datos, prueba a acceder a la información. Por ejemplo, intenta:\n",
    "\n",
    "* Acceder al equipo local del décimo partido.\n",
    "* Acceder al aforo del estadio del segundo equipo\n",
    "* Acceder al valor de mercado del RCD Espanyol\n",
    "* Imprimir todos aquellos equipos con un valor de mercado superior a 100 millones de euros.\n",
    "* Imprimir todos aquellos partidos que se hayan jugado en Agosto\n",
    "\n",
    "Es importante que te familiarices con el formato en el que se ha almacenado la información, por lo que no dudes en explorar más."
   ]
  },
  {
   "cell_type": "markdown",
   "metadata": {
    "id": "WBb4pgpQ-Rl5"
   },
   "source": [
    "# Objetivo y fases del proyecto"
   ]
  },
  {
   "cell_type": "markdown",
   "metadata": {
    "id": "mqJ25L0A-Y4C"
   },
   "source": [
    "El objetivo del proyecto es el siguiente: **Construir un modelo de optimización lineal entera que permita el diseño del calendario de partidos de La Liga para esta temporada. El calendario deberá decidir en qué día concreto se juega cada partido**. \n",
    "\n",
    "La primera parte del proyecto consistirá en analizar cualitativamente los datos que te han sido proporcionados para determinar cómo se podría planificar el calendario liguero. Una vez identificados, se procederá a la modelización formal de un problema de optimización que nos permita construir el calendario de la competición.\n",
    "\n",
    "La segunda parte del proyecto consistirá en la programación y resolución de dicho problema de optimización. La herramienta a emplear para realizar esta parte es ORTools, tal y como hemos visto en las prácticas de la asignatura.\n",
    "\n",
    "No te preocupes, ya que no estarás solo en este proyecto, sino que tú y hasta tres compañeros más formaréis un equipo de trabajo para la ejecución de ambas partes del proyecto."
   ]
  },
  {
   "cell_type": "markdown",
   "metadata": {
    "id": "CG1skmxyU7nJ"
   },
   "source": [
    "## Requisitos de la entrega y el trabajo"
   ]
  },
  {
   "cell_type": "markdown",
   "metadata": {
    "id": "QA0uiB9dU_8B"
   },
   "source": [
    "Tal y como ha sido comentado, el proyecto se dividirá en dos fases: una primera fase de análisis y modelado formal del problema, y una segunda fase de de desarrollo y resolución del problema propiamente dicho. En esta sección vamos a definir los requisitos del proyecto, así como su rúbrica de evaluación.\n",
    "\n",
    "Se deberá entregar un **artículo** en formato PDF con una longitud máxima de **8 páginas**, empleando la plantilla del IEEE disponible en el [siguiente enlace](https://www.ieee.org/content/dam/ieee-org/ieee/web/org/conferences/conference-template-a4.docx). Cíñete al formato de la plantilla lo máximo posible. El idioma del artículo será el **español**. Las secciones que deberán aparecer (como mínimo) en el artículo son:\n",
    "* Abstract o resumen: En esta sección se describirá entre 150 y 250 palabras la propuesta de modelo que se ha realizado, así como los resultados obtenidos en los experimentos realizados.\n",
    "* Introducción: En esta sección se explicará brevemente cuál es el problema que se quiere resolver, la importancia de este problema para la organización, y el tipo de técnicas que se emplearán para su resolución. Finalmente se comentará como se organiza el artículo en secciones.\n",
    "* Trabajo relacionado: Se revisarán 4 trabajos académicos en forma de artículo científico o revista científica relacionados con la aplicación práctica de la programación matemática a problemas similares a los planteados en el artículo. La revisión realizada será a alto nivel, comentando el problema que se pretende resolver, el tipo de técnica empleada para resolverlo, los experimentos llevados a cabo, y las diferencias y similitudes con el modelo propuesto en vuestro artículo. Los trabajos aparecerán debidamente citados en el texto, así como también aparecerán en la bibliografía del artículo empleando el formato propuesto en la plantilla. Extensión máxima de **1 página**.\n",
    "* Modelo matemático de optimización propuesto: Se deberá describir el modelo matemático de optimización tal y como se ha hecho en clase. Es decir, empleando tanto notación matemática como lenguaje natural. Concretamente, deberán aparecer definidos los siguientes elementos:\n",
    "    * Variables de decisión: Se deberá definir su símbolo, su descripción en lenguaje natural, así como la naturaleza (e.g., entero, binario, real) y dominio de la variable (e.g., no negativo).\n",
    "    * Constantes: En caso de utilizar constantes o notación matemática para definir algunos coeficientes o datos de entrada del modelo, estos también deberán aparecer especificados. Concretamente, deberá aparecer el símbolo asociado a dicha constante, así como una explicación en lenguaje natural del significado de dicha constante.\n",
    "    * Restricciones: Para cada restricción o familia de restricciones se asignará un nombre para identificarla, se explicará en lenguaje natural qué se intenta cumplir con dicha restricción, y se incluirá la definición matemática de la restricción. Si se define una familia de restricciones, es importante definir los correspondientes subíndices e indicar el rango de los mismos a la hora de generar todas las restricciones de dicha familia.\n",
    "    * Función objetivo: Se definirá el sentido de la optimización (minimizar o maximizar) así como la definición de la función matemática que se quiere optimizar. Además, se explicará en lenguaje natural qué se pretende calcular con la función objetivo propuesta y cómo realiza dicho cálculo.\n",
    "* Implementación: El código se entregará de forma separada a este artículo en un fichero zip. Se adjuntará una descripción del código desarrollado para el proyecto, así como su organización. Se deberá señalar y explicar las partes del código donde se definen las variables (cuáles y tipo), las restricciones (cuáles y qué función tienen), y la función objetivo, así como cualquier otro detalle de implementación que sea relevante.\n",
    "* Experimentos: Primero se describirá cuál es el objetivo de los experimentos, y tras ello se describirá el conjunto de experimentos diseñados. Se realizará un conjunto de experimentos para evaluar la escalabilidad temporal del modelo con diferentes solvers (e.g., GLOP, SCIP, CBC) para diferentes tamaños de problema. Las conclusiones de los experimentos deberán estar apoyadas por tests estadísticos de significancia.\n",
    "* Conclusiones: Se resumirá el problema planteado, el modelo que se ha propuesto, los experimentos realizados, así como las conclusiones extraidas de los mismos. Se describirán también posibles mejoras sobre vuestro modelo, así como también sobre los experimentos realizados.\n",
    "*  Referencias: Referencias empleadas en el artículo a cualquier recurso externo que se haya citado.\n",
    "\n",
    "**RÚBRICA DE EVALUACIÓN**\n",
    "\n",
    "A continuación se adjunta la rúbrica de evaluación para el primer entregable del proyecto. Cabe destacar que la rúbrica es **orientativa** y es **IMPOSIBLE** que contenga todas las casuísticas que se pueden dar en un proyecto abierto de esta índole.\n",
    "\n",
    "| Aspecto                                       | <50%                                                                                                                                                                                      | 50-69%                                                                                                                                                                                                                  | 70-89%                                                                                                                                                                                                                        | 90-100%                                                                                                                                                                                               |\n",
    "|-----------------------------------------------|-------------------------------------------------------------------------------------------------------------------------------------------------------------------------------------------|-------------------------------------------------------------------------------------------------------------------------------------------------------------------------------------------------------------------------|-------------------------------------------------------------------------------------------------------------------------------------------------------------------------------------------------------------------------------|-------------------------------------------------------------------------------------------------------------------------------------------------------------------------------------------------------|\n",
    "| Estilo, organización y claridad<br>(1 punto)  | El documento no está<br> organizado en las secciones propuestas<br><br><br>No existe coherencia en<br> las ideas expresadas<br>y en las explicaciones<br><br>Bibliografía no presente. | Existe cierta coherencia<br> en las ideas<br>expresadas<br><br><br><br>Faltan secciones al documento<br> o la organización<br> no es adecuada                              | Existe cierta coherencia<br> en las ideas expresadas <br><br><br>No faltan secciones al<br> documento <br><br> Uso adecuado de figuras y tablas                        | La escritura e ideas expresadas <br> son coherentes<br><br>No faltan secciones al<br> documento <br><br> Uso adecuado de figuras y tablas        |\n",
    "| Trabajo relacionado <br>(1 punto) | No hay discusión o<br> es incoherente | Se describe de forma adecuada <br> 1 trabajo relacionado | Se describe de forma adecuada <br> 3 trabajos relacionados  | Se describe de forma adecuada al menos <br> 4 trabajos relacionados  |\n",
    "| Modelado formal<br>(3 puntos)                 | No existe modelo,<br> o éste es completamente erróneo. El modelo no tiene elementos originales significativos<br> o ha sido copiado                                                                                                                                         | Correcta y completa<br> definición de 2 los siguientes:<br>Variables de decisión<br>Restricciones<br>Función objetivo<br><br>El modelo no contempla<br> bastantes aspectos<br>presentes en los datos<br> que lo podrían hacer más<br>realistas<br><br>El modelo tiene algunos aspectos originales significativos | Correcta y completa<br> definición de variables de decisión,<br> restricciones,<br>y función objetivo<br><br>El modelo no contempla<br> algunos aspectos<br> presentes en los datos<br>que lo podrían hacer más realista<br><br> El modelo contempla aspectos mayormente originales y diferentes.                                | Correcta y completa definición de<br> variables de decisión,<br> restricciones,<br>y función objetivo<br><br>El modelo es fiel a la<br> realidad del caso y los datos presentados<br><br> El modelo propuesto es completamente original                                            |\n",
    "| Código desarrollado <br>  (3 puntos) | Código incompleto, funcional<br> y sin mérito, o código plagiado | El código refleja parte<br> del modelo planteado,<br> tiene mérito, <br> aunque no captura<br> la totalidad del mismo.<br> El código está parcialmente<br> explicado en la memoria | El código refleja<br> el modelo teórico planteado,<br> tiene mérito, y refleja<br> la totalidad del modelo.<br> El código está parcialmente<br> explicado en la memoria | El código refleja el<br> modelo teórico planteado,<br> tiene mérito, y refleja la totalidad<br> del modelo.<br> El código está completamente<br> explicado en la memoria,<br> y con detalle | \n",
    "| Experimentación <br> (2 puntos) | No hay experimentación<br> o el código <br> y resultados de la<br> misma no tienen mérito | Se ha preparado código<br> para una experimentación justa <br> que permite estudiar el tiempo<br> de ejecución para <br> varias tallas del problema<br> y solvers | Se ha preparado código<br> para una experimentación justa <br> que permite estudiar el <br>tiempo de ejecución para <br> varias tallas del problema y solvers.<br> Se incluyen los resultados<br> de la experimentación<br> en la memoria | Se ha preparado código<br> para una experimentación justa <br> que permite estudiar el<br> tiempo de ejecución para <br> varias tallas del problema y solvers <br> Se describen y analizan<br> los resultados del experimento |\n"
   ]
  },
  {
   "cell_type": "code",
   "execution_count": null,
   "metadata": {
    "id": "iiQvuqL2VtNq"
   },
   "outputs": [],
   "source": []
  }
 ],
 "metadata": {
  "colab": {
   "collapsed_sections": [],
   "provenance": []
  },
  "kernelspec": {
   "display_name": "Python 3.7.4 ('base')",
   "language": "python",
   "name": "python3"
  },
  "language_info": {
   "codemirror_mode": {
    "name": "ipython",
    "version": 3
   },
   "file_extension": ".py",
   "mimetype": "text/x-python",
   "name": "python",
   "nbconvert_exporter": "python",
   "pygments_lexer": "ipython3",
   "version": "3.7.4"
  },
  "vscode": {
   "interpreter": {
    "hash": "17fc8340c9ba1e94038bd011b525f4db70ac036de745d735c7fcd6ae35d62309"
   }
  }
 },
 "nbformat": 4,
 "nbformat_minor": 1
}
