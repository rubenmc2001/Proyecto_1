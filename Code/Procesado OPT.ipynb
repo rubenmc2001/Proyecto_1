{
 "cells": [
  {
   "cell_type": "code",
   "execution_count": 2,
   "id": "6b9d92eb",
   "metadata": {},
   "outputs": [],
   "source": [
    "import requests\n",
    "import json\n",
    "\n",
    "r = requests.get('https://gitlab.com/drvicsana/proyecto-calendario-deportivo/-/raw/main/equipos.json')\n",
    "equipos_db = []\n",
    "for line in r.text.split(\"\\n\"):\n",
    "    equipos_db.append(json.loads(line))\n",
    "\n",
    "r = requests.get('https://gitlab.com/drvicsana/proyecto-calendario-deportivo/-/raw/main/historico.json')\n",
    "historico_db = []\n",
    "for line in r.text.split(\"\\n\"):\n",
    "    historico_db.append(json.loads(line))"
   ]
  },
  {
   "cell_type": "code",
   "execution_count": 9,
   "id": "356675c5",
   "metadata": {},
   "outputs": [],
   "source": [
    "import pandas as pd\n",
    "equipos_data = pd.DataFrame.from_dict(equipos_db, orient='columns')\n",
    "historico_data = pd.DataFrame.from_dict(historico_db, orient='columns')"
   ]
  },
  {
   "cell_type": "code",
   "execution_count": 12,
   "id": "73f75df0",
   "metadata": {},
   "outputs": [],
   "source": [
    "equipos_data.to_csv('equipos_data.csv', index = True)\n",
    "historico_data.to_csv('historico_data.csv', index = True)"
   ]
  }
 ],
 "metadata": {
  "kernelspec": {
   "display_name": "Python 3 (ipykernel)",
   "language": "python",
   "name": "python3"
  },
  "language_info": {
   "codemirror_mode": {
    "name": "ipython",
    "version": 3
   },
   "file_extension": ".py",
   "mimetype": "text/x-python",
   "name": "python",
   "nbconvert_exporter": "python",
   "pygments_lexer": "ipython3",
   "version": "3.9.12"
  }
 },
 "nbformat": 4,
 "nbformat_minor": 5
}
