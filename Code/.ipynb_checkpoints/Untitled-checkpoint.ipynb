{
 "cells": [
  {
   "cell_type": "code",
   "execution_count": 3,
   "id": "144eb9cb",
   "metadata": {},
   "outputs": [],
   "source": [
    "from joblib import load\n",
    "import pandas as pd\n",
    "from itertools import permutations\n",
    "import pickle\n",
    "\n",
    "filename = '../Data/list_tuplas.pkl'\n",
    "lista_tuplas = open(filename, 'rb')\n",
    "with open(filename, 'rb') as f:\n",
    "    lista_tuplas = pickle.load(f)\n",
    "\n",
    "df = pd.read_csv('../Data/equipos_data.csv', index_col = 0)\n",
    "partidos = list(permutations(df['equipo'].unique(), 2))\n",
    "\n",
    "model = load('trainedMLP.joblib')"
   ]
  },
  {
   "cell_type": "code",
   "execution_count": 10,
   "id": "03306580",
   "metadata": {},
   "outputs": [
    {
     "name": "stdout",
     "output_type": "stream",
     "text": [
      "1     7980\n",
      "3     6840\n",
      "9     6460\n",
      "10    6080\n",
      "5     6080\n",
      "2     6080\n",
      "4     5700\n",
      "8     4560\n",
      "11    1900\n",
      "6     1900\n",
      "12    1520\n",
      "Name: mes, dtype: int64\n"
     ]
    }
   ],
   "source": [
    "import pandas as pd\n",
    "\n",
    "data = []\n",
    "\n",
    "for fecha, finde in lista_tuplas:\n",
    "    for partido in partidos:\n",
    "        data.append(partido + (int(fecha[3:5]), finde))\n",
    "        \n",
    "df = pd.DataFrame(data, columns = ['equipo1', 'equipo2', 'mes', 'fin_de_semana'])\n",
    "print(df['mes'].value_counts())\n",
    "df['mes'] = str(df['mes'])\n",
    "\n",
    "historico = pd.get_dummies(df, prefix=['equipo1','equipo2', 'mes'])"
   ]
  },
  {
   "cell_type": "code",
   "execution_count": 5,
   "id": "78a16405",
   "metadata": {},
   "outputs": [
    {
     "ename": "NameError",
     "evalue": "name 'd' is not defined",
     "output_type": "error",
     "traceback": [
      "\u001b[1;31m---------------------------------------------------------------------------\u001b[0m",
      "\u001b[1;31mNameError\u001b[0m                                 Traceback (most recent call last)",
      "\u001b[1;32m<ipython-input-5-2825b746c667>\u001b[0m in \u001b[0;36m<module>\u001b[1;34m\u001b[0m\n\u001b[0;32m      1\u001b[0m \u001b[1;32mfor\u001b[0m \u001b[0mi\u001b[0m \u001b[1;32min\u001b[0m \u001b[0mrange\u001b[0m\u001b[1;33m(\u001b[0m\u001b[0mdf\u001b[0m\u001b[1;33m.\u001b[0m\u001b[0mshape\u001b[0m\u001b[1;33m[\u001b[0m\u001b[1;36m0\u001b[0m\u001b[1;33m]\u001b[0m\u001b[1;33m)\u001b[0m\u001b[1;33m:\u001b[0m\u001b[1;33m\u001b[0m\u001b[1;33m\u001b[0m\u001b[0m\n\u001b[1;32m----> 2\u001b[1;33m     \u001b[0md\u001b[0m\u001b[1;33m[\u001b[0m\u001b[1;33m(\u001b[0m\u001b[0mequipo1\u001b[0m\u001b[1;33m,\u001b[0m \u001b[0mequipo2\u001b[0m\u001b[1;33m)\u001b[0m\u001b[1;33m,\u001b[0m \u001b[1;33m]\u001b[0m\u001b[1;33m\u001b[0m\u001b[1;33m\u001b[0m\u001b[0m\n\u001b[0m",
      "\u001b[1;31mNameError\u001b[0m: name 'd' is not defined"
     ]
    }
   ],
   "source": [
    "for i in range(df.shape[0]):\n",
    "    d[(equipo1, equipo2), ]"
   ]
  }
 ],
 "metadata": {
  "kernelspec": {
   "display_name": "Python 3",
   "language": "python",
   "name": "python3"
  },
  "language_info": {
   "codemirror_mode": {
    "name": "ipython",
    "version": 3
   },
   "file_extension": ".py",
   "mimetype": "text/x-python",
   "name": "python",
   "nbconvert_exporter": "python",
   "pygments_lexer": "ipython3",
   "version": "3.7.4"
  }
 },
 "nbformat": 4,
 "nbformat_minor": 5
}
