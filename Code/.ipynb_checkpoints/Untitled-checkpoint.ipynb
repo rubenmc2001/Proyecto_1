{
 "cells": [
  {
   "cell_type": "code",
   "execution_count": 1,
   "id": "0b80a9d6",
   "metadata": {},
   "outputs": [
    {
     "name": "stderr",
     "output_type": "stream",
     "text": [
      "C:\\Users\\migue\\AppData\\Local\\Continuum\\anaconda3\\lib\\site-packages\\sklearn\\base.py:338: UserWarning: Trying to unpickle estimator MLPRegressor from version 0.23.2 when using version 1.0.2. This might lead to breaking code or invalid results. Use at your own risk. For more info please refer to:\n",
      "https://scikit-learn.org/stable/modules/model_persistence.html#security-maintainability-limitations\n",
      "  UserWarning,\n"
     ]
    }
   ],
   "source": [
    "from joblib import load\n",
    "import pandas as pd\n",
    "from itertools import permutations\n",
    "import pickle\n",
    "\n",
    "filename = '../Data/list_tuplas.pkl'\n",
    "lista_tuplas = open(filename, 'rb')\n",
    "with open(filename, 'rb') as f:\n",
    "    lista_tuplas = pickle.load(f)\n",
    "\n",
    "df = pd.read_csv('../Data/equipos_data.csv', index_col = 0)\n",
    "partidos = list(permutations(df['equipo'].unique(), 2))\n",
    "\n",
    "model = load('trainedMLP.joblib')"
   ]
  },
  {
   "cell_type": "code",
   "execution_count": 2,
   "id": "51321b79",
   "metadata": {},
   "outputs": [],
   "source": [
    "import pandas as pd\n",
    "\n",
    "data = []\n",
    "\n",
    "for fecha, finde in lista_tuplas:\n",
    "    for partido in partidos:\n",
    "        data.append(partido + (int(fecha[3:5]), finde, fecha))\n",
    "        \n",
    "df = pd.DataFrame(data, columns = ['equipo1', 'equipo2', 'mes', 'fin_de_semana', 'fecha'])\n",
    "df.astype({'mes': 'object'}).dtypes\n",
    "\n",
    "historico = pd.get_dummies(df.drop('fecha', axis = 1), prefix = ['equipo1','equipo2','mes'], columns = ['equipo1','equipo2','mes'])"
   ]
  },
  {
   "cell_type": "code",
   "execution_count": 3,
   "id": "5e803029",
   "metadata": {},
   "outputs": [
    {
     "data": {
      "text/plain": [
       "True"
      ]
     },
     "execution_count": 3,
     "metadata": {},
     "output_type": "execute_result"
    }
   ],
   "source": [
    "orden_original = []\n",
    "\n",
    "with open('columnas.txt', encoding='utf-8') as fp:\n",
    "    for fila in fp:\n",
    "        orden_original.append(fila[:-1])\n",
    "        \n",
    "orden_original.pop(1)\n",
    "all(historico.columns == orden_original)"
   ]
  },
  {
   "cell_type": "code",
   "execution_count": 18,
   "id": "84e15286",
   "metadata": {},
   "outputs": [
    {
     "name": "stderr",
     "output_type": "stream",
     "text": [
      "C:\\Users\\migue\\AppData\\Local\\Continuum\\anaconda3\\lib\\site-packages\\sklearn\\base.py:444: UserWarning: X has feature names, but MLPRegressor was fitted without feature names\n",
      "  f\"X has feature names, but {self.__class__.__name__} was fitted without\"\n"
     ]
    }
   ],
   "source": [
    "predicciones = {}\n",
    "df['pred'] = model.predict(historico)\n",
    "\n",
    "for i, fila in df.iterrows():\n",
    "    predicciones[(fila['equipo1'], fila['equipo2']), fila['fecha']] = fila['pred']\n",
    "    \n",
    "with open('../Data/predicciones.pickle', 'wb') as file:\n",
    "    pickle.dump(predicciones, file)"
   ]
  }
 ],
 "metadata": {
  "kernelspec": {
   "display_name": "Python 3",
   "language": "python",
   "name": "python3"
  },
  "language_info": {
   "codemirror_mode": {
    "name": "ipython",
    "version": 3
   },
   "file_extension": ".py",
   "mimetype": "text/x-python",
   "name": "python",
   "nbconvert_exporter": "python",
   "pygments_lexer": "ipython3",
   "version": "3.7.4"
  }
 },
 "nbformat": 4,
 "nbformat_minor": 5
}
