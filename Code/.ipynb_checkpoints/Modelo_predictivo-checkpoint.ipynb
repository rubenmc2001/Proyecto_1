{
 "cells": [
  {
   "cell_type": "code",
   "execution_count": 1,
   "metadata": {},
   "outputs": [],
   "source": [
    "import sklearn\n",
    "import pandas as pd"
   ]
  },
  {
   "cell_type": "code",
   "execution_count": 27,
   "metadata": {},
   "outputs": [],
   "source": [
    "equipos = pd.read_csv('../Data/equipos_data.csv')\n",
    "equipos = equipos[['equipo','posicion','valor_mercado','aforo']]\n",
    "historico = pd.read_csv('../Data/historico_data.csv')\n",
    "historico = historico[['equipo1','posicion1','equipo2','equipo2','mes','fin_de_semana','publico']]"
   ]
  },
  {
   "cell_type": "code",
   "execution_count": 32,
   "metadata": {},
   "outputs": [],
   "source": [
    "se_llena = pd.merge(historico,equipos, left_on='equipo1', right_on='equipo')\n",
    "se_llena[se_llena['publico'] == se_llena['aforo']]"
   ]
  },
  {
   "cell_type": "markdown",
   "metadata": {},
   "source": [
    "Se llena el estadio den 157 partidos"
   ]
  }
 ],
 "metadata": {
  "kernelspec": {
   "display_name": "Python 3",
   "language": "python",
   "name": "python3"
  },
  "language_info": {
   "codemirror_mode": {
    "name": "ipython",
    "version": 3
   },
   "file_extension": ".py",
   "mimetype": "text/x-python",
   "name": "python",
   "nbconvert_exporter": "python",
   "pygments_lexer": "ipython3",
   "version": "3.8.5"
  }
 },
 "nbformat": 4,
 "nbformat_minor": 4
}
