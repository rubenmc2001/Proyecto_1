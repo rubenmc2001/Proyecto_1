{
 "cells": [
  {
   "cell_type": "code",
   "execution_count": 1,
   "metadata": {},
   "outputs": [
    {
     "data": {
      "text/plain": [
       "380"
      ]
     },
     "execution_count": 1,
     "metadata": {},
     "output_type": "execute_result"
    }
   ],
   "source": [
    "import pandas as pd\n",
    "from itertools import permutations\n",
    "\n",
    "df = pd.read_csv('../Data/equipos_data.csv', index_col = 0)\n",
    "partidos = list(permutations(df['equipo'].unique(), 2))\n",
    "len(partidos)"
   ]
  },
  {
   "cell_type": "code",
   "execution_count": 7,
   "metadata": {},
   "outputs": [],
   "source": [
    "import pickle\n",
    "filename = '../Data/list_tuplas.pkl'\n",
    "lista_tuplas = open(filename, 'rb')\n",
    "with open(filename, 'rb') as f:\n",
    "    lista_tuplas=pickle.load(f)"
   ]
  },
  {
   "cell_type": "code",
   "execution_count": 12,
   "metadata": {},
   "outputs": [],
   "source": [
    "# lista_tuplas\n",
    "# !pip install ortools"
   ]
  },
  {
   "cell_type": "code",
   "execution_count": 11,
   "metadata": {},
   "outputs": [],
   "source": [
    "from ortools.linear_solver import pywraplp\n",
    "solver = pywraplp.Solver.CreateSolver('GLOP')\n",
    "\n",
    "x = {}\n",
    "for i in range(partidos):\n",
    "    for j in range(dias):\n",
    "        x[i, j] = solver.IntVar(0, 1, '')"
   ]
  },
  {
   "cell_type": "code",
   "execution_count": null,
   "metadata": {},
   "outputs": [],
   "source": []
  }
 ],
 "metadata": {
  "kernelspec": {
   "display_name": "Python 3",
   "language": "python",
   "name": "python3"
  },
  "language_info": {
   "codemirror_mode": {
    "name": "ipython",
    "version": 3
   },
   "file_extension": ".py",
   "mimetype": "text/x-python",
   "name": "python",
   "nbconvert_exporter": "python",
   "pygments_lexer": "ipython3",
   "version": "3.8.5"
  },
  "vscode": {
   "interpreter": {
    "hash": "17fc8340c9ba1e94038bd011b525f4db70ac036de745d735c7fcd6ae35d62309"
   }
  }
 },
 "nbformat": 4,
 "nbformat_minor": 2
}
